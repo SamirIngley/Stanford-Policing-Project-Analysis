{
 "cells": [
  {
   "cell_type": "markdown",
   "metadata": {},
   "source": [
    "# Curious about the trends in traffic citations in SF, one of the more progressive cities in the nation\n",
    "\n",
    "####  Keep in mind.. any inferences can only be made within the realm of cars that were stopped in traffic - assumptions about any overall populations cannot be made as we are comparing with very specific data on people who drive who got pulled over within this time period."
   ]
  },
  {
   "cell_type": "code",
   "execution_count": 2,
   "metadata": {},
   "outputs": [],
   "source": [
    "import numpy as np\n",
    "import pandas as pd\n",
    "import matplotlib.pyplot as plt\n",
    "import seaborn as sns"
   ]
  },
  {
   "cell_type": "markdown",
   "metadata": {},
   "source": [
    "### This data is from 2007-01-01 to 2016-06-30\n",
    "### more info can be found at: https://openpolicing.stanford.edu/data/\n",
    "### check out the website and all their findings at: https://openpolicing.stanford.edu/\n",
    "\n",
    "### SF Policing data has over 97% of data on all traffic stops in the city"
   ]
  },
  {
   "cell_type": "code",
   "execution_count": 3,
   "metadata": {},
   "outputs": [
    {
     "name": "stderr",
     "output_type": "stream",
     "text": [
      "/usr/local/lib/python3.7/site-packages/IPython/core/interactiveshell.py:3058: DtypeWarning: Columns (6) have mixed types. Specify dtype option on import or set low_memory=False.\n",
      "  interactivity=interactivity, compiler=compiler, result=result)\n"
     ]
    },
    {
     "data": {
      "text/html": [
       "<div>\n",
       "<style scoped>\n",
       "    .dataframe tbody tr th:only-of-type {\n",
       "        vertical-align: middle;\n",
       "    }\n",
       "\n",
       "    .dataframe tbody tr th {\n",
       "        vertical-align: top;\n",
       "    }\n",
       "\n",
       "    .dataframe thead th {\n",
       "        text-align: right;\n",
       "    }\n",
       "</style>\n",
       "<table border=\"1\" class=\"dataframe\">\n",
       "  <thead>\n",
       "    <tr style=\"text-align: right;\">\n",
       "      <th></th>\n",
       "      <th>raw_row_number</th>\n",
       "      <th>date</th>\n",
       "      <th>time</th>\n",
       "      <th>location</th>\n",
       "      <th>lat</th>\n",
       "      <th>lng</th>\n",
       "      <th>district</th>\n",
       "      <th>subject_age</th>\n",
       "      <th>subject_race</th>\n",
       "      <th>subject_sex</th>\n",
       "      <th>...</th>\n",
       "      <th>citation_issued</th>\n",
       "      <th>warning_issued</th>\n",
       "      <th>outcome</th>\n",
       "      <th>contraband_found</th>\n",
       "      <th>search_conducted</th>\n",
       "      <th>search_vehicle</th>\n",
       "      <th>search_basis</th>\n",
       "      <th>reason_for_stop</th>\n",
       "      <th>raw_search_vehicle_description</th>\n",
       "      <th>raw_result_of_contact_description</th>\n",
       "    </tr>\n",
       "  </thead>\n",
       "  <tbody>\n",
       "    <tr>\n",
       "      <th>0</th>\n",
       "      <td>869921</td>\n",
       "      <td>2014-08-01</td>\n",
       "      <td>00:01:00</td>\n",
       "      <td>MASONIC AV &amp; FELL ST</td>\n",
       "      <td>37.773004</td>\n",
       "      <td>-122.445873</td>\n",
       "      <td>NaN</td>\n",
       "      <td>NaN</td>\n",
       "      <td>asian/pacific islander</td>\n",
       "      <td>female</td>\n",
       "      <td>...</td>\n",
       "      <td>False</td>\n",
       "      <td>True</td>\n",
       "      <td>warning</td>\n",
       "      <td>NaN</td>\n",
       "      <td>False</td>\n",
       "      <td>False</td>\n",
       "      <td>NaN</td>\n",
       "      <td>Mechanical or Non-Moving Violation (V.C.)</td>\n",
       "      <td>No Search</td>\n",
       "      <td>Warning</td>\n",
       "    </tr>\n",
       "    <tr>\n",
       "      <th>1</th>\n",
       "      <td>869922</td>\n",
       "      <td>2014-08-01</td>\n",
       "      <td>00:01:00</td>\n",
       "      <td>GEARY&amp;10TH AV</td>\n",
       "      <td>37.780898</td>\n",
       "      <td>-122.468586</td>\n",
       "      <td>NaN</td>\n",
       "      <td>NaN</td>\n",
       "      <td>black</td>\n",
       "      <td>male</td>\n",
       "      <td>...</td>\n",
       "      <td>True</td>\n",
       "      <td>False</td>\n",
       "      <td>citation</td>\n",
       "      <td>NaN</td>\n",
       "      <td>False</td>\n",
       "      <td>False</td>\n",
       "      <td>NaN</td>\n",
       "      <td>Mechanical or Non-Moving Violation (V.C.)</td>\n",
       "      <td>No Search</td>\n",
       "      <td>Citation</td>\n",
       "    </tr>\n",
       "    <tr>\n",
       "      <th>2</th>\n",
       "      <td>869923</td>\n",
       "      <td>2014-08-01</td>\n",
       "      <td>00:15:00</td>\n",
       "      <td>SUTTER N OCTAVIA ST</td>\n",
       "      <td>37.786919</td>\n",
       "      <td>-122.426718</td>\n",
       "      <td>NaN</td>\n",
       "      <td>NaN</td>\n",
       "      <td>hispanic</td>\n",
       "      <td>male</td>\n",
       "      <td>...</td>\n",
       "      <td>True</td>\n",
       "      <td>False</td>\n",
       "      <td>citation</td>\n",
       "      <td>NaN</td>\n",
       "      <td>False</td>\n",
       "      <td>False</td>\n",
       "      <td>NaN</td>\n",
       "      <td>Mechanical or Non-Moving Violation (V.C.)</td>\n",
       "      <td>No Search</td>\n",
       "      <td>Citation</td>\n",
       "    </tr>\n",
       "    <tr>\n",
       "      <th>3</th>\n",
       "      <td>869924</td>\n",
       "      <td>2014-08-01</td>\n",
       "      <td>00:18:00</td>\n",
       "      <td>3RD ST &amp; DAVIDSON</td>\n",
       "      <td>37.746380</td>\n",
       "      <td>-122.392005</td>\n",
       "      <td>NaN</td>\n",
       "      <td>NaN</td>\n",
       "      <td>hispanic</td>\n",
       "      <td>male</td>\n",
       "      <td>...</td>\n",
       "      <td>False</td>\n",
       "      <td>True</td>\n",
       "      <td>warning</td>\n",
       "      <td>NaN</td>\n",
       "      <td>False</td>\n",
       "      <td>False</td>\n",
       "      <td>NaN</td>\n",
       "      <td>Mechanical or Non-Moving Violation (V.C.)</td>\n",
       "      <td>No Search</td>\n",
       "      <td>Warning</td>\n",
       "    </tr>\n",
       "    <tr>\n",
       "      <th>4</th>\n",
       "      <td>869925</td>\n",
       "      <td>2014-08-01</td>\n",
       "      <td>00:19:00</td>\n",
       "      <td>DIVISADERO ST. &amp; BUSH ST.</td>\n",
       "      <td>37.786348</td>\n",
       "      <td>-122.440003</td>\n",
       "      <td>NaN</td>\n",
       "      <td>NaN</td>\n",
       "      <td>white</td>\n",
       "      <td>male</td>\n",
       "      <td>...</td>\n",
       "      <td>True</td>\n",
       "      <td>False</td>\n",
       "      <td>citation</td>\n",
       "      <td>NaN</td>\n",
       "      <td>False</td>\n",
       "      <td>False</td>\n",
       "      <td>NaN</td>\n",
       "      <td>Mechanical or Non-Moving Violation (V.C.)</td>\n",
       "      <td>No Search</td>\n",
       "      <td>Citation</td>\n",
       "    </tr>\n",
       "    <tr>\n",
       "      <th>5</th>\n",
       "      <td>869926</td>\n",
       "      <td>2014-08-01</td>\n",
       "      <td>00:30:00</td>\n",
       "      <td>3RD ST AND GALVEZ AVE</td>\n",
       "      <td>37.741082</td>\n",
       "      <td>-122.388433</td>\n",
       "      <td>NaN</td>\n",
       "      <td>NaN</td>\n",
       "      <td>black</td>\n",
       "      <td>male</td>\n",
       "      <td>...</td>\n",
       "      <td>True</td>\n",
       "      <td>False</td>\n",
       "      <td>citation</td>\n",
       "      <td>NaN</td>\n",
       "      <td>False</td>\n",
       "      <td>False</td>\n",
       "      <td>NaN</td>\n",
       "      <td>Mechanical or Non-Moving Violation (V.C.)</td>\n",
       "      <td>No Search</td>\n",
       "      <td>Citation</td>\n",
       "    </tr>\n",
       "    <tr>\n",
       "      <th>6</th>\n",
       "      <td>869927</td>\n",
       "      <td>2014-08-01</td>\n",
       "      <td>00:30:00</td>\n",
       "      <td>COLUMBUS AND BROADWAY</td>\n",
       "      <td>37.797875</td>\n",
       "      <td>-122.406716</td>\n",
       "      <td>NaN</td>\n",
       "      <td>NaN</td>\n",
       "      <td>hispanic</td>\n",
       "      <td>male</td>\n",
       "      <td>...</td>\n",
       "      <td>True</td>\n",
       "      <td>False</td>\n",
       "      <td>citation</td>\n",
       "      <td>NaN</td>\n",
       "      <td>False</td>\n",
       "      <td>False</td>\n",
       "      <td>NaN</td>\n",
       "      <td>Moving Violation</td>\n",
       "      <td>No Search</td>\n",
       "      <td>Citation</td>\n",
       "    </tr>\n",
       "    <tr>\n",
       "      <th>7</th>\n",
       "      <td>869928</td>\n",
       "      <td>2014-08-01</td>\n",
       "      <td>00:35:00</td>\n",
       "      <td>INGALLS &amp; QUESADA</td>\n",
       "      <td>37.729122</td>\n",
       "      <td>-122.384013</td>\n",
       "      <td>NaN</td>\n",
       "      <td>NaN</td>\n",
       "      <td>black</td>\n",
       "      <td>female</td>\n",
       "      <td>...</td>\n",
       "      <td>True</td>\n",
       "      <td>False</td>\n",
       "      <td>citation</td>\n",
       "      <td>NaN</td>\n",
       "      <td>False</td>\n",
       "      <td>False</td>\n",
       "      <td>NaN</td>\n",
       "      <td>Mechanical or Non-Moving Violation (V.C.)</td>\n",
       "      <td>No Search</td>\n",
       "      <td>Citation</td>\n",
       "    </tr>\n",
       "    <tr>\n",
       "      <th>8</th>\n",
       "      <td>869929</td>\n",
       "      <td>2014-08-01</td>\n",
       "      <td>01:00:00</td>\n",
       "      <td>17TH ST &amp; BRYANT ST</td>\n",
       "      <td>37.764318</td>\n",
       "      <td>-122.410384</td>\n",
       "      <td>NaN</td>\n",
       "      <td>NaN</td>\n",
       "      <td>black</td>\n",
       "      <td>male</td>\n",
       "      <td>...</td>\n",
       "      <td>True</td>\n",
       "      <td>False</td>\n",
       "      <td>citation</td>\n",
       "      <td>NaN</td>\n",
       "      <td>False</td>\n",
       "      <td>False</td>\n",
       "      <td>NaN</td>\n",
       "      <td>Mechanical or Non-Moving Violation (V.C.)</td>\n",
       "      <td>No Search</td>\n",
       "      <td>Citation</td>\n",
       "    </tr>\n",
       "    <tr>\n",
       "      <th>9</th>\n",
       "      <td>869930</td>\n",
       "      <td>2014-08-01</td>\n",
       "      <td>01:00:00</td>\n",
       "      <td>FULTON ST. &amp; FUNSTON AV.</td>\n",
       "      <td>37.773166</td>\n",
       "      <td>-122.471264</td>\n",
       "      <td>NaN</td>\n",
       "      <td>NaN</td>\n",
       "      <td>white</td>\n",
       "      <td>female</td>\n",
       "      <td>...</td>\n",
       "      <td>True</td>\n",
       "      <td>False</td>\n",
       "      <td>citation</td>\n",
       "      <td>NaN</td>\n",
       "      <td>False</td>\n",
       "      <td>False</td>\n",
       "      <td>NaN</td>\n",
       "      <td>Moving Violation</td>\n",
       "      <td>No Search</td>\n",
       "      <td>Citation</td>\n",
       "    </tr>\n",
       "  </tbody>\n",
       "</table>\n",
       "<p>10 rows × 22 columns</p>\n",
       "</div>"
      ],
      "text/plain": [
       "  raw_row_number        date      time                   location        lat  \\\n",
       "0         869921  2014-08-01  00:01:00       MASONIC AV & FELL ST  37.773004   \n",
       "1         869922  2014-08-01  00:01:00              GEARY&10TH AV  37.780898   \n",
       "2         869923  2014-08-01  00:15:00        SUTTER N OCTAVIA ST  37.786919   \n",
       "3         869924  2014-08-01  00:18:00          3RD ST & DAVIDSON  37.746380   \n",
       "4         869925  2014-08-01  00:19:00  DIVISADERO ST. & BUSH ST.  37.786348   \n",
       "5         869926  2014-08-01  00:30:00      3RD ST AND GALVEZ AVE  37.741082   \n",
       "6         869927  2014-08-01  00:30:00      COLUMBUS AND BROADWAY  37.797875   \n",
       "7         869928  2014-08-01  00:35:00          INGALLS & QUESADA  37.729122   \n",
       "8         869929  2014-08-01  01:00:00        17TH ST & BRYANT ST  37.764318   \n",
       "9         869930  2014-08-01  01:00:00   FULTON ST. & FUNSTON AV.  37.773166   \n",
       "\n",
       "          lng district  subject_age            subject_race subject_sex  ...  \\\n",
       "0 -122.445873      NaN          NaN  asian/pacific islander      female  ...   \n",
       "1 -122.468586      NaN          NaN                   black        male  ...   \n",
       "2 -122.426718      NaN          NaN                hispanic        male  ...   \n",
       "3 -122.392005      NaN          NaN                hispanic        male  ...   \n",
       "4 -122.440003      NaN          NaN                   white        male  ...   \n",
       "5 -122.388433      NaN          NaN                   black        male  ...   \n",
       "6 -122.406716      NaN          NaN                hispanic        male  ...   \n",
       "7 -122.384013      NaN          NaN                   black      female  ...   \n",
       "8 -122.410384      NaN          NaN                   black        male  ...   \n",
       "9 -122.471264      NaN          NaN                   white      female  ...   \n",
       "\n",
       "  citation_issued  warning_issued   outcome  contraband_found  \\\n",
       "0           False            True   warning               NaN   \n",
       "1            True           False  citation               NaN   \n",
       "2            True           False  citation               NaN   \n",
       "3           False            True   warning               NaN   \n",
       "4            True           False  citation               NaN   \n",
       "5            True           False  citation               NaN   \n",
       "6            True           False  citation               NaN   \n",
       "7            True           False  citation               NaN   \n",
       "8            True           False  citation               NaN   \n",
       "9            True           False  citation               NaN   \n",
       "\n",
       "  search_conducted search_vehicle  search_basis  \\\n",
       "0            False          False           NaN   \n",
       "1            False          False           NaN   \n",
       "2            False          False           NaN   \n",
       "3            False          False           NaN   \n",
       "4            False          False           NaN   \n",
       "5            False          False           NaN   \n",
       "6            False          False           NaN   \n",
       "7            False          False           NaN   \n",
       "8            False          False           NaN   \n",
       "9            False          False           NaN   \n",
       "\n",
       "                             reason_for_stop raw_search_vehicle_description  \\\n",
       "0  Mechanical or Non-Moving Violation (V.C.)                      No Search   \n",
       "1  Mechanical or Non-Moving Violation (V.C.)                      No Search   \n",
       "2  Mechanical or Non-Moving Violation (V.C.)                      No Search   \n",
       "3  Mechanical or Non-Moving Violation (V.C.)                      No Search   \n",
       "4  Mechanical or Non-Moving Violation (V.C.)                      No Search   \n",
       "5  Mechanical or Non-Moving Violation (V.C.)                      No Search   \n",
       "6                           Moving Violation                      No Search   \n",
       "7  Mechanical or Non-Moving Violation (V.C.)                      No Search   \n",
       "8  Mechanical or Non-Moving Violation (V.C.)                      No Search   \n",
       "9                           Moving Violation                      No Search   \n",
       "\n",
       "  raw_result_of_contact_description  \n",
       "0                           Warning  \n",
       "1                          Citation  \n",
       "2                          Citation  \n",
       "3                           Warning  \n",
       "4                          Citation  \n",
       "5                          Citation  \n",
       "6                          Citation  \n",
       "7                          Citation  \n",
       "8                          Citation  \n",
       "9                          Citation  \n",
       "\n",
       "[10 rows x 22 columns]"
      ]
     },
     "execution_count": 3,
     "metadata": {},
     "output_type": "execute_result"
    }
   ],
   "source": [
    "df = pd.read_csv('PP_CA_SF_2020.csv')\n",
    "df.head(10)"
   ]
  },
  {
   "cell_type": "code",
   "execution_count": 4,
   "metadata": {},
   "outputs": [
    {
     "data": {
      "text/plain": [
       "(905070, 22)"
      ]
     },
     "execution_count": 4,
     "metadata": {},
     "output_type": "execute_result"
    }
   ],
   "source": [
    "df.shape"
   ]
  },
  {
   "cell_type": "code",
   "execution_count": 5,
   "metadata": {},
   "outputs": [
    {
     "data": {
      "text/plain": [
       "Index(['raw_row_number', 'date', 'time', 'location', 'lat', 'lng', 'district',\n",
       "       'subject_age', 'subject_race', 'subject_sex', 'type', 'arrest_made',\n",
       "       'citation_issued', 'warning_issued', 'outcome', 'contraband_found',\n",
       "       'search_conducted', 'search_vehicle', 'search_basis', 'reason_for_stop',\n",
       "       'raw_search_vehicle_description', 'raw_result_of_contact_description'],\n",
       "      dtype='object')"
      ]
     },
     "execution_count": 5,
     "metadata": {},
     "output_type": "execute_result"
    }
   ],
   "source": [
    "df.columns"
   ]
  },
  {
   "cell_type": "markdown",
   "metadata": {},
   "source": [
    "# looks like we've got ~905K traffic stops between Jan 2007 - Jun 2016"
   ]
  },
  {
   "cell_type": "markdown",
   "metadata": {},
   "source": [
    "### let's see how many NaN / null values we have. Since we don't have any that affect the data as a whole, we can deal with the larger ones as we go. "
   ]
  },
  {
   "cell_type": "code",
   "execution_count": 6,
   "metadata": {},
   "outputs": [
    {
     "data": {
      "text/plain": [
       "raw_row_number                            0\n",
       "date                                      0\n",
       "time                                     35\n",
       "location                                 43\n",
       "lat                                    1697\n",
       "lng                                    1697\n",
       "district                              52187\n",
       "subject_age                           58888\n",
       "subject_race                              0\n",
       "subject_sex                               0\n",
       "type                                      0\n",
       "arrest_made                               0\n",
       "citation_issued                           0\n",
       "warning_issued                            0\n",
       "outcome                               15681\n",
       "contraband_found                     851689\n",
       "search_conducted                          0\n",
       "search_vehicle                            0\n",
       "search_basis                         851689\n",
       "reason_for_stop                        2212\n",
       "raw_search_vehicle_description            0\n",
       "raw_result_of_contact_description         0\n",
       "dtype: int64"
      ]
     },
     "execution_count": 6,
     "metadata": {},
     "output_type": "execute_result"
    }
   ],
   "source": [
    "df.isnull().sum()"
   ]
  },
  {
   "cell_type": "markdown",
   "metadata": {},
   "source": [
    "Search basis and Contraband found have the least amount of useful data. District and Subject Age come next. \n",
    "* No need to drop any columns."
   ]
  },
  {
   "cell_type": "markdown",
   "metadata": {},
   "source": [
    "# For the first few analyses, we want to engage with data on the actual subjects. Let's clean the data specific to this..."
   ]
  },
  {
   "cell_type": "code",
   "execution_count": 7,
   "metadata": {},
   "outputs": [
    {
     "data": {
      "text/plain": [
       "raw_row_number                        object\n",
       "date                                  object\n",
       "time                                  object\n",
       "location                              object\n",
       "lat                                  float64\n",
       "lng                                  float64\n",
       "district                              object\n",
       "subject_age                          float64\n",
       "subject_race                          object\n",
       "subject_sex                           object\n",
       "type                                  object\n",
       "arrest_made                             bool\n",
       "citation_issued                         bool\n",
       "warning_issued                          bool\n",
       "outcome                               object\n",
       "contraband_found                      object\n",
       "search_conducted                        bool\n",
       "search_vehicle                          bool\n",
       "search_basis                          object\n",
       "reason_for_stop                       object\n",
       "raw_search_vehicle_description        object\n",
       "raw_result_of_contact_description     object\n",
       "dtype: object"
      ]
     },
     "execution_count": 7,
     "metadata": {},
     "output_type": "execute_result"
    }
   ],
   "source": [
    "df.dtypes"
   ]
  },
  {
   "cell_type": "markdown",
   "metadata": {},
   "source": [
    "### Let's organize the data by date/time"
   ]
  },
  {
   "cell_type": "code",
   "execution_count": 8,
   "metadata": {},
   "outputs": [
    {
     "data": {
      "text/html": [
       "<div>\n",
       "<style scoped>\n",
       "    .dataframe tbody tr th:only-of-type {\n",
       "        vertical-align: middle;\n",
       "    }\n",
       "\n",
       "    .dataframe tbody tr th {\n",
       "        vertical-align: top;\n",
       "    }\n",
       "\n",
       "    .dataframe thead th {\n",
       "        text-align: right;\n",
       "    }\n",
       "</style>\n",
       "<table border=\"1\" class=\"dataframe\">\n",
       "  <thead>\n",
       "    <tr style=\"text-align: right;\">\n",
       "      <th></th>\n",
       "      <th>raw_row_number</th>\n",
       "      <th>date</th>\n",
       "      <th>time</th>\n",
       "      <th>location</th>\n",
       "      <th>lat</th>\n",
       "      <th>lng</th>\n",
       "      <th>district</th>\n",
       "      <th>subject_age</th>\n",
       "      <th>subject_race</th>\n",
       "      <th>subject_sex</th>\n",
       "      <th>...</th>\n",
       "      <th>citation_issued</th>\n",
       "      <th>warning_issued</th>\n",
       "      <th>outcome</th>\n",
       "      <th>contraband_found</th>\n",
       "      <th>search_conducted</th>\n",
       "      <th>search_vehicle</th>\n",
       "      <th>search_basis</th>\n",
       "      <th>reason_for_stop</th>\n",
       "      <th>raw_search_vehicle_description</th>\n",
       "      <th>raw_result_of_contact_description</th>\n",
       "    </tr>\n",
       "    <tr>\n",
       "      <th>datetime</th>\n",
       "      <th></th>\n",
       "      <th></th>\n",
       "      <th></th>\n",
       "      <th></th>\n",
       "      <th></th>\n",
       "      <th></th>\n",
       "      <th></th>\n",
       "      <th></th>\n",
       "      <th></th>\n",
       "      <th></th>\n",
       "      <th></th>\n",
       "      <th></th>\n",
       "      <th></th>\n",
       "      <th></th>\n",
       "      <th></th>\n",
       "      <th></th>\n",
       "      <th></th>\n",
       "      <th></th>\n",
       "      <th></th>\n",
       "      <th></th>\n",
       "      <th></th>\n",
       "    </tr>\n",
       "  </thead>\n",
       "  <tbody>\n",
       "    <tr>\n",
       "      <th>2014-08-01 00:01:00</th>\n",
       "      <td>869921</td>\n",
       "      <td>2014-08-01</td>\n",
       "      <td>00:01:00</td>\n",
       "      <td>MASONIC AV &amp; FELL ST</td>\n",
       "      <td>37.773004</td>\n",
       "      <td>-122.445873</td>\n",
       "      <td>NaN</td>\n",
       "      <td>NaN</td>\n",
       "      <td>asian/pacific islander</td>\n",
       "      <td>female</td>\n",
       "      <td>...</td>\n",
       "      <td>False</td>\n",
       "      <td>True</td>\n",
       "      <td>warning</td>\n",
       "      <td>NaN</td>\n",
       "      <td>False</td>\n",
       "      <td>False</td>\n",
       "      <td>NaN</td>\n",
       "      <td>Mechanical or Non-Moving Violation (V.C.)</td>\n",
       "      <td>No Search</td>\n",
       "      <td>Warning</td>\n",
       "    </tr>\n",
       "    <tr>\n",
       "      <th>2014-08-01 00:01:00</th>\n",
       "      <td>869922</td>\n",
       "      <td>2014-08-01</td>\n",
       "      <td>00:01:00</td>\n",
       "      <td>GEARY&amp;10TH AV</td>\n",
       "      <td>37.780898</td>\n",
       "      <td>-122.468586</td>\n",
       "      <td>NaN</td>\n",
       "      <td>NaN</td>\n",
       "      <td>black</td>\n",
       "      <td>male</td>\n",
       "      <td>...</td>\n",
       "      <td>True</td>\n",
       "      <td>False</td>\n",
       "      <td>citation</td>\n",
       "      <td>NaN</td>\n",
       "      <td>False</td>\n",
       "      <td>False</td>\n",
       "      <td>NaN</td>\n",
       "      <td>Mechanical or Non-Moving Violation (V.C.)</td>\n",
       "      <td>No Search</td>\n",
       "      <td>Citation</td>\n",
       "    </tr>\n",
       "    <tr>\n",
       "      <th>2014-08-01 00:15:00</th>\n",
       "      <td>869923</td>\n",
       "      <td>2014-08-01</td>\n",
       "      <td>00:15:00</td>\n",
       "      <td>SUTTER N OCTAVIA ST</td>\n",
       "      <td>37.786919</td>\n",
       "      <td>-122.426718</td>\n",
       "      <td>NaN</td>\n",
       "      <td>NaN</td>\n",
       "      <td>hispanic</td>\n",
       "      <td>male</td>\n",
       "      <td>...</td>\n",
       "      <td>True</td>\n",
       "      <td>False</td>\n",
       "      <td>citation</td>\n",
       "      <td>NaN</td>\n",
       "      <td>False</td>\n",
       "      <td>False</td>\n",
       "      <td>NaN</td>\n",
       "      <td>Mechanical or Non-Moving Violation (V.C.)</td>\n",
       "      <td>No Search</td>\n",
       "      <td>Citation</td>\n",
       "    </tr>\n",
       "    <tr>\n",
       "      <th>2014-08-01 00:18:00</th>\n",
       "      <td>869924</td>\n",
       "      <td>2014-08-01</td>\n",
       "      <td>00:18:00</td>\n",
       "      <td>3RD ST &amp; DAVIDSON</td>\n",
       "      <td>37.746380</td>\n",
       "      <td>-122.392005</td>\n",
       "      <td>NaN</td>\n",
       "      <td>NaN</td>\n",
       "      <td>hispanic</td>\n",
       "      <td>male</td>\n",
       "      <td>...</td>\n",
       "      <td>False</td>\n",
       "      <td>True</td>\n",
       "      <td>warning</td>\n",
       "      <td>NaN</td>\n",
       "      <td>False</td>\n",
       "      <td>False</td>\n",
       "      <td>NaN</td>\n",
       "      <td>Mechanical or Non-Moving Violation (V.C.)</td>\n",
       "      <td>No Search</td>\n",
       "      <td>Warning</td>\n",
       "    </tr>\n",
       "    <tr>\n",
       "      <th>2014-08-01 00:19:00</th>\n",
       "      <td>869925</td>\n",
       "      <td>2014-08-01</td>\n",
       "      <td>00:19:00</td>\n",
       "      <td>DIVISADERO ST. &amp; BUSH ST.</td>\n",
       "      <td>37.786348</td>\n",
       "      <td>-122.440003</td>\n",
       "      <td>NaN</td>\n",
       "      <td>NaN</td>\n",
       "      <td>white</td>\n",
       "      <td>male</td>\n",
       "      <td>...</td>\n",
       "      <td>True</td>\n",
       "      <td>False</td>\n",
       "      <td>citation</td>\n",
       "      <td>NaN</td>\n",
       "      <td>False</td>\n",
       "      <td>False</td>\n",
       "      <td>NaN</td>\n",
       "      <td>Mechanical or Non-Moving Violation (V.C.)</td>\n",
       "      <td>No Search</td>\n",
       "      <td>Citation</td>\n",
       "    </tr>\n",
       "    <tr>\n",
       "      <th>2014-08-01 00:30:00</th>\n",
       "      <td>869926</td>\n",
       "      <td>2014-08-01</td>\n",
       "      <td>00:30:00</td>\n",
       "      <td>3RD ST AND GALVEZ AVE</td>\n",
       "      <td>37.741082</td>\n",
       "      <td>-122.388433</td>\n",
       "      <td>NaN</td>\n",
       "      <td>NaN</td>\n",
       "      <td>black</td>\n",
       "      <td>male</td>\n",
       "      <td>...</td>\n",
       "      <td>True</td>\n",
       "      <td>False</td>\n",
       "      <td>citation</td>\n",
       "      <td>NaN</td>\n",
       "      <td>False</td>\n",
       "      <td>False</td>\n",
       "      <td>NaN</td>\n",
       "      <td>Mechanical or Non-Moving Violation (V.C.)</td>\n",
       "      <td>No Search</td>\n",
       "      <td>Citation</td>\n",
       "    </tr>\n",
       "    <tr>\n",
       "      <th>2014-08-01 00:30:00</th>\n",
       "      <td>869927</td>\n",
       "      <td>2014-08-01</td>\n",
       "      <td>00:30:00</td>\n",
       "      <td>COLUMBUS AND BROADWAY</td>\n",
       "      <td>37.797875</td>\n",
       "      <td>-122.406716</td>\n",
       "      <td>NaN</td>\n",
       "      <td>NaN</td>\n",
       "      <td>hispanic</td>\n",
       "      <td>male</td>\n",
       "      <td>...</td>\n",
       "      <td>True</td>\n",
       "      <td>False</td>\n",
       "      <td>citation</td>\n",
       "      <td>NaN</td>\n",
       "      <td>False</td>\n",
       "      <td>False</td>\n",
       "      <td>NaN</td>\n",
       "      <td>Moving Violation</td>\n",
       "      <td>No Search</td>\n",
       "      <td>Citation</td>\n",
       "    </tr>\n",
       "    <tr>\n",
       "      <th>2014-08-01 00:35:00</th>\n",
       "      <td>869928</td>\n",
       "      <td>2014-08-01</td>\n",
       "      <td>00:35:00</td>\n",
       "      <td>INGALLS &amp; QUESADA</td>\n",
       "      <td>37.729122</td>\n",
       "      <td>-122.384013</td>\n",
       "      <td>NaN</td>\n",
       "      <td>NaN</td>\n",
       "      <td>black</td>\n",
       "      <td>female</td>\n",
       "      <td>...</td>\n",
       "      <td>True</td>\n",
       "      <td>False</td>\n",
       "      <td>citation</td>\n",
       "      <td>NaN</td>\n",
       "      <td>False</td>\n",
       "      <td>False</td>\n",
       "      <td>NaN</td>\n",
       "      <td>Mechanical or Non-Moving Violation (V.C.)</td>\n",
       "      <td>No Search</td>\n",
       "      <td>Citation</td>\n",
       "    </tr>\n",
       "    <tr>\n",
       "      <th>2014-08-01 01:00:00</th>\n",
       "      <td>869929</td>\n",
       "      <td>2014-08-01</td>\n",
       "      <td>01:00:00</td>\n",
       "      <td>17TH ST &amp; BRYANT ST</td>\n",
       "      <td>37.764318</td>\n",
       "      <td>-122.410384</td>\n",
       "      <td>NaN</td>\n",
       "      <td>NaN</td>\n",
       "      <td>black</td>\n",
       "      <td>male</td>\n",
       "      <td>...</td>\n",
       "      <td>True</td>\n",
       "      <td>False</td>\n",
       "      <td>citation</td>\n",
       "      <td>NaN</td>\n",
       "      <td>False</td>\n",
       "      <td>False</td>\n",
       "      <td>NaN</td>\n",
       "      <td>Mechanical or Non-Moving Violation (V.C.)</td>\n",
       "      <td>No Search</td>\n",
       "      <td>Citation</td>\n",
       "    </tr>\n",
       "    <tr>\n",
       "      <th>2014-08-01 01:00:00</th>\n",
       "      <td>869930</td>\n",
       "      <td>2014-08-01</td>\n",
       "      <td>01:00:00</td>\n",
       "      <td>FULTON ST. &amp; FUNSTON AV.</td>\n",
       "      <td>37.773166</td>\n",
       "      <td>-122.471264</td>\n",
       "      <td>NaN</td>\n",
       "      <td>NaN</td>\n",
       "      <td>white</td>\n",
       "      <td>female</td>\n",
       "      <td>...</td>\n",
       "      <td>True</td>\n",
       "      <td>False</td>\n",
       "      <td>citation</td>\n",
       "      <td>NaN</td>\n",
       "      <td>False</td>\n",
       "      <td>False</td>\n",
       "      <td>NaN</td>\n",
       "      <td>Moving Violation</td>\n",
       "      <td>No Search</td>\n",
       "      <td>Citation</td>\n",
       "    </tr>\n",
       "  </tbody>\n",
       "</table>\n",
       "<p>10 rows × 22 columns</p>\n",
       "</div>"
      ],
      "text/plain": [
       "                    raw_row_number        date      time  \\\n",
       "datetime                                                   \n",
       "2014-08-01 00:01:00         869921  2014-08-01  00:01:00   \n",
       "2014-08-01 00:01:00         869922  2014-08-01  00:01:00   \n",
       "2014-08-01 00:15:00         869923  2014-08-01  00:15:00   \n",
       "2014-08-01 00:18:00         869924  2014-08-01  00:18:00   \n",
       "2014-08-01 00:19:00         869925  2014-08-01  00:19:00   \n",
       "2014-08-01 00:30:00         869926  2014-08-01  00:30:00   \n",
       "2014-08-01 00:30:00         869927  2014-08-01  00:30:00   \n",
       "2014-08-01 00:35:00         869928  2014-08-01  00:35:00   \n",
       "2014-08-01 01:00:00         869929  2014-08-01  01:00:00   \n",
       "2014-08-01 01:00:00         869930  2014-08-01  01:00:00   \n",
       "\n",
       "                                      location        lat         lng  \\\n",
       "datetime                                                                \n",
       "2014-08-01 00:01:00       MASONIC AV & FELL ST  37.773004 -122.445873   \n",
       "2014-08-01 00:01:00              GEARY&10TH AV  37.780898 -122.468586   \n",
       "2014-08-01 00:15:00        SUTTER N OCTAVIA ST  37.786919 -122.426718   \n",
       "2014-08-01 00:18:00          3RD ST & DAVIDSON  37.746380 -122.392005   \n",
       "2014-08-01 00:19:00  DIVISADERO ST. & BUSH ST.  37.786348 -122.440003   \n",
       "2014-08-01 00:30:00      3RD ST AND GALVEZ AVE  37.741082 -122.388433   \n",
       "2014-08-01 00:30:00      COLUMBUS AND BROADWAY  37.797875 -122.406716   \n",
       "2014-08-01 00:35:00          INGALLS & QUESADA  37.729122 -122.384013   \n",
       "2014-08-01 01:00:00        17TH ST & BRYANT ST  37.764318 -122.410384   \n",
       "2014-08-01 01:00:00   FULTON ST. & FUNSTON AV.  37.773166 -122.471264   \n",
       "\n",
       "                    district  subject_age            subject_race subject_sex  \\\n",
       "datetime                                                                        \n",
       "2014-08-01 00:01:00      NaN          NaN  asian/pacific islander      female   \n",
       "2014-08-01 00:01:00      NaN          NaN                   black        male   \n",
       "2014-08-01 00:15:00      NaN          NaN                hispanic        male   \n",
       "2014-08-01 00:18:00      NaN          NaN                hispanic        male   \n",
       "2014-08-01 00:19:00      NaN          NaN                   white        male   \n",
       "2014-08-01 00:30:00      NaN          NaN                   black        male   \n",
       "2014-08-01 00:30:00      NaN          NaN                hispanic        male   \n",
       "2014-08-01 00:35:00      NaN          NaN                   black      female   \n",
       "2014-08-01 01:00:00      NaN          NaN                   black        male   \n",
       "2014-08-01 01:00:00      NaN          NaN                   white      female   \n",
       "\n",
       "                     ... citation_issued  warning_issued   outcome  \\\n",
       "datetime             ...                                             \n",
       "2014-08-01 00:01:00  ...           False            True   warning   \n",
       "2014-08-01 00:01:00  ...            True           False  citation   \n",
       "2014-08-01 00:15:00  ...            True           False  citation   \n",
       "2014-08-01 00:18:00  ...           False            True   warning   \n",
       "2014-08-01 00:19:00  ...            True           False  citation   \n",
       "2014-08-01 00:30:00  ...            True           False  citation   \n",
       "2014-08-01 00:30:00  ...            True           False  citation   \n",
       "2014-08-01 00:35:00  ...            True           False  citation   \n",
       "2014-08-01 01:00:00  ...            True           False  citation   \n",
       "2014-08-01 01:00:00  ...            True           False  citation   \n",
       "\n",
       "                     contraband_found search_conducted search_vehicle  \\\n",
       "datetime                                                                \n",
       "2014-08-01 00:01:00               NaN            False          False   \n",
       "2014-08-01 00:01:00               NaN            False          False   \n",
       "2014-08-01 00:15:00               NaN            False          False   \n",
       "2014-08-01 00:18:00               NaN            False          False   \n",
       "2014-08-01 00:19:00               NaN            False          False   \n",
       "2014-08-01 00:30:00               NaN            False          False   \n",
       "2014-08-01 00:30:00               NaN            False          False   \n",
       "2014-08-01 00:35:00               NaN            False          False   \n",
       "2014-08-01 01:00:00               NaN            False          False   \n",
       "2014-08-01 01:00:00               NaN            False          False   \n",
       "\n",
       "                     search_basis                            reason_for_stop  \\\n",
       "datetime                                                                       \n",
       "2014-08-01 00:01:00           NaN  Mechanical or Non-Moving Violation (V.C.)   \n",
       "2014-08-01 00:01:00           NaN  Mechanical or Non-Moving Violation (V.C.)   \n",
       "2014-08-01 00:15:00           NaN  Mechanical or Non-Moving Violation (V.C.)   \n",
       "2014-08-01 00:18:00           NaN  Mechanical or Non-Moving Violation (V.C.)   \n",
       "2014-08-01 00:19:00           NaN  Mechanical or Non-Moving Violation (V.C.)   \n",
       "2014-08-01 00:30:00           NaN  Mechanical or Non-Moving Violation (V.C.)   \n",
       "2014-08-01 00:30:00           NaN                           Moving Violation   \n",
       "2014-08-01 00:35:00           NaN  Mechanical or Non-Moving Violation (V.C.)   \n",
       "2014-08-01 01:00:00           NaN  Mechanical or Non-Moving Violation (V.C.)   \n",
       "2014-08-01 01:00:00           NaN                           Moving Violation   \n",
       "\n",
       "                    raw_search_vehicle_description  \\\n",
       "datetime                                             \n",
       "2014-08-01 00:01:00                      No Search   \n",
       "2014-08-01 00:01:00                      No Search   \n",
       "2014-08-01 00:15:00                      No Search   \n",
       "2014-08-01 00:18:00                      No Search   \n",
       "2014-08-01 00:19:00                      No Search   \n",
       "2014-08-01 00:30:00                      No Search   \n",
       "2014-08-01 00:30:00                      No Search   \n",
       "2014-08-01 00:35:00                      No Search   \n",
       "2014-08-01 01:00:00                      No Search   \n",
       "2014-08-01 01:00:00                      No Search   \n",
       "\n",
       "                    raw_result_of_contact_description  \n",
       "datetime                                               \n",
       "2014-08-01 00:01:00                           Warning  \n",
       "2014-08-01 00:01:00                          Citation  \n",
       "2014-08-01 00:15:00                          Citation  \n",
       "2014-08-01 00:18:00                           Warning  \n",
       "2014-08-01 00:19:00                          Citation  \n",
       "2014-08-01 00:30:00                          Citation  \n",
       "2014-08-01 00:30:00                          Citation  \n",
       "2014-08-01 00:35:00                          Citation  \n",
       "2014-08-01 01:00:00                          Citation  \n",
       "2014-08-01 01:00:00                          Citation  \n",
       "\n",
       "[10 rows x 22 columns]"
      ]
     },
     "execution_count": 8,
     "metadata": {},
     "output_type": "execute_result"
    }
   ],
   "source": [
    "# concatenate date and time (probably the start time)\n",
    "combined = df.date.str.cat(df.time,sep=' ')\n",
    "\n",
    "# convert combined to datetime format\n",
    "df['datetime'] = pd.to_datetime(combined)\n",
    "df.set_index('datetime', inplace=True)\n",
    "df.head(10)"
   ]
  },
  {
   "cell_type": "markdown",
   "metadata": {},
   "source": [
    "# Gender & Policing"
   ]
  },
  {
   "cell_type": "markdown",
   "metadata": {},
   "source": [
    "How many violations do we have overall? "
   ]
  },
  {
   "cell_type": "code",
   "execution_count": 9,
   "metadata": {},
   "outputs": [
    {
     "data": {
      "text/plain": [
       "Moving Violation                                                                                                                                                                            563105\n",
       "Mechanical or Non-Moving Violation (V.C.)                                                                                                                                                   331477\n",
       "MPC Violation                                                                                                                                                                                 3542\n",
       "Traffic Collision                                                                                                                                                                             1343\n",
       "BOLO/APB/Warrant                                                                                                                                                                              1207\n",
       "DUI Check                                                                                                                                                                                     1037\n",
       "Assistance to Motorist                                                                                                                                                                         930\n",
       "Moving Violation|Mechanical or Non-Moving Violation (V.C.)                                                                                                                                     171\n",
       "Moving Violation|MPC Violation                                                                                                                                                                  14\n",
       "Moving Violation|NA                                                                                                                                                                              5\n",
       "Mechanical or Non-Moving Violation (V.C.)|Moving Violation                                                                                                                                       4\n",
       "Moving Violation|Mechanical or Non-Moving Violation (V.C.)|MPC Violation                                                                                                                         3\n",
       "Mechanical or Non-Moving Violation (V.C.)|BOLO/APB/Warrant                                                                                                                                       2\n",
       "Mechanical or Non-Moving Violation (V.C.)|DUI Check                                                                                                                                              2\n",
       "MPC Violation|Moving Violation                                                                                                                                                                   2\n",
       "Moving Violation|DUI Check                                                                                                                                                                       2\n",
       "Moving Violation|Assistance to Motorist                                                                                                                                                          2\n",
       "Moving Violation|Traffic Collision                                                                                                                                                               2\n",
       "NA|Traffic Collision                                                                                                                                                                             1\n",
       "Moving Violation|Mechanical or Non-Moving Violation (V.C.)|Mechanical or Non-Moving Violation (V.C.)                                                                                             1\n",
       "Moving Violation|Mechanical or Non-Moving Violation (V.C.)|Mechanical or Non-Moving Violation (V.C.)|Mechanical or Non-Moving Violation (V.C.)|Mechanical or Non-Moving Violation (V.C.)         1\n",
       "Moving Violation|BOLO/APB/Warrant                                                                                                                                                                1\n",
       "NA|Moving Violation                                                                                                                                                                              1\n",
       "DUI Check|MPC Violation                                                                                                                                                                          1\n",
       "Mechanical or Non-Moving Violation (V.C.)|Assistance to Motorist                                                                                                                                 1\n",
       "Moving Violation|MPC Violation|MPC Violation                                                                                                                                                     1\n",
       "Name: reason_for_stop, dtype: int64"
      ]
     },
     "execution_count": 9,
     "metadata": {},
     "output_type": "execute_result"
    }
   ],
   "source": [
    "# raw numbers total\n",
    "df.reason_for_stop.value_counts()"
   ]
  },
  {
   "cell_type": "markdown",
   "metadata": {},
   "source": [
    "### These are huge figures, working with percentages and averages may help.."
   ]
  },
  {
   "cell_type": "code",
   "execution_count": 10,
   "metadata": {},
   "outputs": [
    {
     "data": {
      "text/plain": [
       "Moving Violation                                                                                                                                                                            0.623692\n",
       "Mechanical or Non-Moving Violation (V.C.)                                                                                                                                                   0.367142\n",
       "MPC Violation                                                                                                                                                                               0.003923\n",
       "Traffic Collision                                                                                                                                                                           0.001487\n",
       "BOLO/APB/Warrant                                                                                                                                                                            0.001337\n",
       "DUI Check                                                                                                                                                                                   0.001149\n",
       "Assistance to Motorist                                                                                                                                                                      0.001030\n",
       "Moving Violation|Mechanical or Non-Moving Violation (V.C.)                                                                                                                                  0.000189\n",
       "Moving Violation|MPC Violation                                                                                                                                                              0.000016\n",
       "Moving Violation|NA                                                                                                                                                                         0.000006\n",
       "Mechanical or Non-Moving Violation (V.C.)|Moving Violation                                                                                                                                  0.000004\n",
       "Moving Violation|Mechanical or Non-Moving Violation (V.C.)|MPC Violation                                                                                                                    0.000003\n",
       "Mechanical or Non-Moving Violation (V.C.)|BOLO/APB/Warrant                                                                                                                                  0.000002\n",
       "Mechanical or Non-Moving Violation (V.C.)|DUI Check                                                                                                                                         0.000002\n",
       "MPC Violation|Moving Violation                                                                                                                                                              0.000002\n",
       "Moving Violation|DUI Check                                                                                                                                                                  0.000002\n",
       "Moving Violation|Assistance to Motorist                                                                                                                                                     0.000002\n",
       "Moving Violation|Traffic Collision                                                                                                                                                          0.000002\n",
       "NA|Traffic Collision                                                                                                                                                                        0.000001\n",
       "Moving Violation|Mechanical or Non-Moving Violation (V.C.)|Mechanical or Non-Moving Violation (V.C.)                                                                                        0.000001\n",
       "Moving Violation|Mechanical or Non-Moving Violation (V.C.)|Mechanical or Non-Moving Violation (V.C.)|Mechanical or Non-Moving Violation (V.C.)|Mechanical or Non-Moving Violation (V.C.)    0.000001\n",
       "Moving Violation|BOLO/APB/Warrant                                                                                                                                                           0.000001\n",
       "NA|Moving Violation                                                                                                                                                                         0.000001\n",
       "DUI Check|MPC Violation                                                                                                                                                                     0.000001\n",
       "Mechanical or Non-Moving Violation (V.C.)|Assistance to Motorist                                                                                                                            0.000001\n",
       "Moving Violation|MPC Violation|MPC Violation                                                                                                                                                0.000001\n",
       "Name: reason_for_stop, dtype: float64"
      ]
     },
     "execution_count": 10,
     "metadata": {},
     "output_type": "execute_result"
    }
   ],
   "source": [
    "# as proportions total\n",
    "df.reason_for_stop.value_counts(normalize=True)"
   ]
  },
  {
   "cell_type": "markdown",
   "metadata": {},
   "source": [
    "### Now let's break down gender stats in traffic stops"
   ]
  },
  {
   "cell_type": "code",
   "execution_count": 11,
   "metadata": {},
   "outputs": [],
   "source": [
    "female = df[df.subject_sex=='female']\n",
    "male = df[df.subject_sex=='male']"
   ]
  },
  {
   "cell_type": "code",
   "execution_count": 12,
   "metadata": {},
   "outputs": [
    {
     "data": {
      "text/plain": [
       "Moving Violation                                                                                        0.629405\n",
       "Mechanical or Non-Moving Violation (V.C.)                                                               0.364881\n",
       "Traffic Collision                                                                                       0.001612\n",
       "MPC Violation                                                                                           0.001266\n",
       "DUI Check                                                                                               0.000960\n",
       "BOLO/APB/Warrant                                                                                        0.000927\n",
       "Assistance to Motorist                                                                                  0.000761\n",
       "Moving Violation|Mechanical or Non-Moving Violation (V.C.)                                              0.000154\n",
       "Moving Violation|Assistance to Motorist                                                                 0.000004\n",
       "Moving Violation|Traffic Collision                                                                      0.000004\n",
       "MPC Violation|Moving Violation                                                                          0.000004\n",
       "Mechanical or Non-Moving Violation (V.C.)|Assistance to Motorist                                        0.000004\n",
       "DUI Check|MPC Violation                                                                                 0.000004\n",
       "Mechanical or Non-Moving Violation (V.C.)|BOLO/APB/Warrant                                              0.000004\n",
       "Moving Violation|Mechanical or Non-Moving Violation (V.C.)|Mechanical or Non-Moving Violation (V.C.)    0.000004\n",
       "Moving Violation|DUI Check                                                                              0.000004\n",
       "Moving Violation|MPC Violation                                                                          0.000004\n",
       "Name: reason_for_stop, dtype: float64"
      ]
     },
     "execution_count": 12,
     "metadata": {},
     "output_type": "execute_result"
    }
   ],
   "source": [
    "female.reason_for_stop.value_counts(normalize=True)"
   ]
  },
  {
   "cell_type": "code",
   "execution_count": 13,
   "metadata": {},
   "outputs": [
    {
     "data": {
      "text/plain": [
       "Moving Violation                                                                                                                                                                            0.621312\n",
       "Mechanical or Non-Moving Violation (V.C.)                                                                                                                                                   0.368084\n",
       "MPC Violation                                                                                                                                                                               0.005030\n",
       "BOLO/APB/Warrant                                                                                                                                                                            0.001508\n",
       "Traffic Collision                                                                                                                                                                           0.001436\n",
       "DUI Check                                                                                                                                                                                   0.001227\n",
       "Assistance to Motorist                                                                                                                                                                      0.001142\n",
       "Moving Violation|Mechanical or Non-Moving Violation (V.C.)                                                                                                                                  0.000204\n",
       "Moving Violation|MPC Violation                                                                                                                                                              0.000020\n",
       "Moving Violation|NA                                                                                                                                                                         0.000008\n",
       "Mechanical or Non-Moving Violation (V.C.)|Moving Violation                                                                                                                                  0.000006\n",
       "Moving Violation|Mechanical or Non-Moving Violation (V.C.)|MPC Violation                                                                                                                    0.000005\n",
       "Mechanical or Non-Moving Violation (V.C.)|DUI Check                                                                                                                                         0.000003\n",
       "Moving Violation|DUI Check                                                                                                                                                                  0.000002\n",
       "Mechanical or Non-Moving Violation (V.C.)|BOLO/APB/Warrant                                                                                                                                  0.000002\n",
       "Moving Violation|MPC Violation|MPC Violation                                                                                                                                                0.000002\n",
       "Moving Violation|Traffic Collision                                                                                                                                                          0.000002\n",
       "NA|Moving Violation                                                                                                                                                                         0.000002\n",
       "Moving Violation|Mechanical or Non-Moving Violation (V.C.)|Mechanical or Non-Moving Violation (V.C.)|Mechanical or Non-Moving Violation (V.C.)|Mechanical or Non-Moving Violation (V.C.)    0.000002\n",
       "NA|Traffic Collision                                                                                                                                                                        0.000002\n",
       "MPC Violation|Moving Violation                                                                                                                                                              0.000002\n",
       "Moving Violation|Assistance to Motorist                                                                                                                                                     0.000002\n",
       "Moving Violation|BOLO/APB/Warrant                                                                                                                                                           0.000002\n",
       "Name: reason_for_stop, dtype: float64"
      ]
     },
     "execution_count": 13,
     "metadata": {},
     "output_type": "execute_result"
    }
   ],
   "source": [
    "male.reason_for_stop.value_counts(normalize=True)"
   ]
  },
  {
   "cell_type": "markdown",
   "metadata": {},
   "source": [
    "# Now, the figures I want to examine are: outcome vs reason_for_stop relative to gender"
   ]
  },
  {
   "cell_type": "markdown",
   "metadata": {},
   "source": [
    "### Moving Violations velative to outcomes"
   ]
  },
  {
   "cell_type": "code",
   "execution_count": 14,
   "metadata": {},
   "outputs": [],
   "source": [
    "female_MV = df[(df.subject_sex =='female') & (df.reason_for_stop =='Moving Violation')]\n",
    "male_MV = df[(df.subject_sex =='male') & (df.reason_for_stop =='Moving Violation')]"
   ]
  },
  {
   "cell_type": "code",
   "execution_count": 64,
   "metadata": {},
   "outputs": [
    {
     "data": {
      "text/plain": [
       "citation    0.739015\n",
       "warning     0.252676\n",
       "arrest      0.008309\n",
       "Name: outcome, dtype: float64"
      ]
     },
     "execution_count": 64,
     "metadata": {},
     "output_type": "execute_result"
    }
   ],
   "source": [
    "# Moving violation outcomes for females\n",
    "female_MV.outcome.value_counts(normalize=True)"
   ]
  },
  {
   "cell_type": "code",
   "execution_count": 65,
   "metadata": {},
   "outputs": [
    {
     "data": {
      "text/plain": [
       "citation    0.742151\n",
       "warning     0.244938\n",
       "arrest      0.012911\n",
       "Name: outcome, dtype: float64"
      ]
     },
     "execution_count": 65,
     "metadata": {},
     "output_type": "execute_result"
    }
   ],
   "source": [
    "# Moving violation outcomes for males\n",
    "male_MV.outcome.value_counts(normalize=True)"
   ]
  },
  {
   "cell_type": "markdown",
   "metadata": {},
   "source": [
    "#### Percentages look pretty equal except that \n",
    "# males seem to get arrested more.. let's explore that\n",
    "## Let's take a look at searches"
   ]
  },
  {
   "cell_type": "code",
   "execution_count": 17,
   "metadata": {},
   "outputs": [
    {
     "data": {
      "text/plain": [
       "False    0.94102\n",
       "True     0.05898\n",
       "Name: search_conducted, dtype: float64"
      ]
     },
     "execution_count": 17,
     "metadata": {},
     "output_type": "execute_result"
    }
   ],
   "source": [
    "df.search_conducted.value_counts(normalize=True)"
   ]
  },
  {
   "cell_type": "code",
   "execution_count": 67,
   "metadata": {},
   "outputs": [
    {
     "data": {
      "text/plain": [
       "0.058979968400234235"
      ]
     },
     "execution_count": 67,
     "metadata": {},
     "output_type": "execute_result"
    }
   ],
   "source": [
    "# overall search rate\n",
    "search_rate = df.search_conducted.mean()\n",
    "search_rate"
   ]
  },
  {
   "cell_type": "code",
   "execution_count": 66,
   "metadata": {},
   "outputs": [
    {
     "data": {
      "text/plain": [
       "subject_sex\n",
       "female    3.375951\n",
       "male      6.946915\n",
       "Name: search_conducted, dtype: float64"
      ]
     },
     "execution_count": 66,
     "metadata": {},
     "output_type": "execute_result"
    }
   ],
   "source": [
    "# search rate grouped by sex\n",
    "df.groupby('subject_sex').search_conducted.mean() * 100"
   ]
  },
  {
   "cell_type": "markdown",
   "metadata": {},
   "source": [
    "* Search rate is twice as large for males"
   ]
  },
  {
   "cell_type": "markdown",
   "metadata": {},
   "source": [
    "Maybe this is related to rates of violations per gender"
   ]
  },
  {
   "cell_type": "markdown",
   "metadata": {},
   "source": [
    "Let's take a look at the average for each violation per gender.. "
   ]
  },
  {
   "cell_type": "code",
   "execution_count": 180,
   "metadata": {},
   "outputs": [
    {
     "data": {
      "text/plain": [
       "<matplotlib.axes._subplots.AxesSubplot at 0x14bca0750>"
      ]
     },
     "execution_count": 180,
     "metadata": {},
     "output_type": "execute_result"
    },
    {
     "data": {
      "image/png": "[encoded data removed]",
      "text/plain": [
       "<Figure size 1440x720 with 1 Axes>"
      ]
     },
     "metadata": {
      "needs_background": "light"
     },
     "output_type": "display_data"
    }
   ],
   "source": [
    "rfs = df['reason_for_stop'].value_counts()\n",
    "rfs.sort_values(ascending=False, inplace=True)\n",
    "\n",
    "plt.subplots(figsize=(20,10))\n",
    "sns.barplot(x=rfs.values, y=rfs.index, order=rfs.index, orient='h')"
   ]
  },
  {
   "cell_type": "markdown",
   "metadata": {},
   "source": [
    "### Regardless of gender... vast majority of data is highly concentrated between two violations.\n",
    "\n",
    "#### Let's get some real figures for each of them"
   ]
  },
  {
   "cell_type": "code",
   "execution_count": 21,
   "metadata": {},
   "outputs": [
    {
     "data": {
      "text/plain": [
       "reason_for_stop                                                                                                                                                                           subject_sex\n",
       "Assistance to Motorist                                                                                                                                                                    female         0.133663\n",
       "                                                                                                                                                                                          male           0.152473\n",
       "BOLO/APB/Warrant                                                                                                                                                                          female         0.443089\n",
       "                                                                                                                                                                                          male           0.536941\n",
       "DUI Check                                                                                                                                                                                 female         0.129412\n",
       "                                                                                                                                                                                          male           0.207161\n",
       "DUI Check|MPC Violation                                                                                                                                                                   female         0.000000\n",
       "MPC Violation                                                                                                                                                                             female         0.107143\n",
       "                                                                                                                                                                                          male           0.114785\n",
       "MPC Violation|Moving Violation                                                                                                                                                            female         0.000000\n",
       "                                                                                                                                                                                          male           0.000000\n",
       "Mechanical or Non-Moving Violation (V.C.)                                                                                                                                                 female         0.042148\n",
       "                                                                                                                                                                                          male           0.087723\n",
       "Mechanical or Non-Moving Violation (V.C.)|Assistance to Motorist                                                                                                                          female         0.000000\n",
       "Mechanical or Non-Moving Violation (V.C.)|BOLO/APB/Warrant                                                                                                                                female         0.000000\n",
       "                                                                                                                                                                                          male           1.000000\n",
       "Mechanical or Non-Moving Violation (V.C.)|DUI Check                                                                                                                                       male           0.000000\n",
       "Mechanical or Non-Moving Violation (V.C.)|Moving Violation                                                                                                                                male           0.000000\n",
       "Moving Violation                                                                                                                                                                          female         0.026612\n",
       "                                                                                                                                                                                          male           0.054149\n",
       "Moving Violation|Assistance to Motorist                                                                                                                                                   female         0.000000\n",
       "                                                                                                                                                                                          male           0.000000\n",
       "Moving Violation|BOLO/APB/Warrant                                                                                                                                                         male           0.000000\n",
       "Moving Violation|DUI Check                                                                                                                                                                female         1.000000\n",
       "                                                                                                                                                                                          male           1.000000\n",
       "Moving Violation|MPC Violation                                                                                                                                                            female         0.000000\n",
       "                                                                                                                                                                                          male           0.000000\n",
       "Moving Violation|MPC Violation|MPC Violation                                                                                                                                              male           0.000000\n",
       "Moving Violation|Mechanical or Non-Moving Violation (V.C.)                                                                                                                                female         0.024390\n",
       "                                                                                                                                                                                          male           0.069231\n",
       "Moving Violation|Mechanical or Non-Moving Violation (V.C.)|MPC Violation                                                                                                                  male           0.000000\n",
       "Moving Violation|Mechanical or Non-Moving Violation (V.C.)|Mechanical or Non-Moving Violation (V.C.)                                                                                      female         0.000000\n",
       "Moving Violation|Mechanical or Non-Moving Violation (V.C.)|Mechanical or Non-Moving Violation (V.C.)|Mechanical or Non-Moving Violation (V.C.)|Mechanical or Non-Moving Violation (V.C.)  male           0.000000\n",
       "Moving Violation|NA                                                                                                                                                                       male           0.000000\n",
       "Moving Violation|Traffic Collision                                                                                                                                                        female         0.000000\n",
       "                                                                                                                                                                                          male           0.000000\n",
       "NA|Moving Violation                                                                                                                                                                       male           0.000000\n",
       "NA|Traffic Collision                                                                                                                                                                      male           0.000000\n",
       "Traffic Collision                                                                                                                                                                         female         0.172897\n",
       "                                                                                                                                                                                          male           0.213115\n",
       "Name: search_conducted, dtype: float64"
      ]
     },
     "execution_count": 21,
     "metadata": {},
     "output_type": "execute_result"
    }
   ],
   "source": [
    "df.groupby(['reason_for_stop', 'subject_sex']).search_conducted.mean()"
   ]
  },
  {
   "cell_type": "code",
   "execution_count": 22,
   "metadata": {},
   "outputs": [
    {
     "data": {
      "text/html": [
       "<div>\n",
       "<style scoped>\n",
       "    .dataframe tbody tr th:only-of-type {\n",
       "        vertical-align: middle;\n",
       "    }\n",
       "\n",
       "    .dataframe tbody tr th {\n",
       "        vertical-align: top;\n",
       "    }\n",
       "\n",
       "    .dataframe thead th {\n",
       "        text-align: right;\n",
       "    }\n",
       "</style>\n",
       "<table border=\"1\" class=\"dataframe\">\n",
       "  <thead>\n",
       "    <tr style=\"text-align: right;\">\n",
       "      <th>subject_sex</th>\n",
       "      <th>female</th>\n",
       "      <th>male</th>\n",
       "    </tr>\n",
       "    <tr>\n",
       "      <th>reason_for_stop</th>\n",
       "      <th></th>\n",
       "      <th></th>\n",
       "    </tr>\n",
       "  </thead>\n",
       "  <tbody>\n",
       "    <tr>\n",
       "      <th>Assistance to Motorist</th>\n",
       "      <td>202</td>\n",
       "      <td>728</td>\n",
       "    </tr>\n",
       "    <tr>\n",
       "      <th>BOLO/APB/Warrant</th>\n",
       "      <td>246</td>\n",
       "      <td>961</td>\n",
       "    </tr>\n",
       "    <tr>\n",
       "      <th>DUI Check</th>\n",
       "      <td>255</td>\n",
       "      <td>782</td>\n",
       "    </tr>\n",
       "    <tr>\n",
       "      <th>DUI Check|MPC Violation</th>\n",
       "      <td>1</td>\n",
       "      <td>0</td>\n",
       "    </tr>\n",
       "    <tr>\n",
       "      <th>MPC Violation</th>\n",
       "      <td>336</td>\n",
       "      <td>3206</td>\n",
       "    </tr>\n",
       "    <tr>\n",
       "      <th>MPC Violation|Moving Violation</th>\n",
       "      <td>1</td>\n",
       "      <td>1</td>\n",
       "    </tr>\n",
       "    <tr>\n",
       "      <th>Mechanical or Non-Moving Violation (V.C.)</th>\n",
       "      <td>96874</td>\n",
       "      <td>234603</td>\n",
       "    </tr>\n",
       "    <tr>\n",
       "      <th>Mechanical or Non-Moving Violation (V.C.)|Assistance to Motorist</th>\n",
       "      <td>1</td>\n",
       "      <td>0</td>\n",
       "    </tr>\n",
       "    <tr>\n",
       "      <th>Mechanical or Non-Moving Violation (V.C.)|BOLO/APB/Warrant</th>\n",
       "      <td>1</td>\n",
       "      <td>1</td>\n",
       "    </tr>\n",
       "    <tr>\n",
       "      <th>Mechanical or Non-Moving Violation (V.C.)|DUI Check</th>\n",
       "      <td>0</td>\n",
       "      <td>2</td>\n",
       "    </tr>\n",
       "    <tr>\n",
       "      <th>Mechanical or Non-Moving Violation (V.C.)|Moving Violation</th>\n",
       "      <td>0</td>\n",
       "      <td>4</td>\n",
       "    </tr>\n",
       "    <tr>\n",
       "      <th>Moving Violation</th>\n",
       "      <td>167104</td>\n",
       "      <td>396001</td>\n",
       "    </tr>\n",
       "    <tr>\n",
       "      <th>Moving Violation|Assistance to Motorist</th>\n",
       "      <td>1</td>\n",
       "      <td>1</td>\n",
       "    </tr>\n",
       "    <tr>\n",
       "      <th>Moving Violation|BOLO/APB/Warrant</th>\n",
       "      <td>0</td>\n",
       "      <td>1</td>\n",
       "    </tr>\n",
       "    <tr>\n",
       "      <th>Moving Violation|DUI Check</th>\n",
       "      <td>1</td>\n",
       "      <td>1</td>\n",
       "    </tr>\n",
       "    <tr>\n",
       "      <th>Moving Violation|MPC Violation</th>\n",
       "      <td>1</td>\n",
       "      <td>13</td>\n",
       "    </tr>\n",
       "    <tr>\n",
       "      <th>Moving Violation|MPC Violation|MPC Violation</th>\n",
       "      <td>0</td>\n",
       "      <td>1</td>\n",
       "    </tr>\n",
       "    <tr>\n",
       "      <th>Moving Violation|Mechanical or Non-Moving Violation (V.C.)</th>\n",
       "      <td>41</td>\n",
       "      <td>130</td>\n",
       "    </tr>\n",
       "    <tr>\n",
       "      <th>Moving Violation|Mechanical or Non-Moving Violation (V.C.)|MPC Violation</th>\n",
       "      <td>0</td>\n",
       "      <td>3</td>\n",
       "    </tr>\n",
       "    <tr>\n",
       "      <th>Moving Violation|Mechanical or Non-Moving Violation (V.C.)|Mechanical or Non-Moving Violation (V.C.)</th>\n",
       "      <td>1</td>\n",
       "      <td>0</td>\n",
       "    </tr>\n",
       "    <tr>\n",
       "      <th>Moving Violation|Mechanical or Non-Moving Violation (V.C.)|Mechanical or Non-Moving Violation (V.C.)|Mechanical or Non-Moving Violation (V.C.)|Mechanical or Non-Moving Violation (V.C.)</th>\n",
       "      <td>0</td>\n",
       "      <td>1</td>\n",
       "    </tr>\n",
       "    <tr>\n",
       "      <th>Moving Violation|NA</th>\n",
       "      <td>0</td>\n",
       "      <td>5</td>\n",
       "    </tr>\n",
       "    <tr>\n",
       "      <th>Moving Violation|Traffic Collision</th>\n",
       "      <td>1</td>\n",
       "      <td>1</td>\n",
       "    </tr>\n",
       "    <tr>\n",
       "      <th>NA|Moving Violation</th>\n",
       "      <td>0</td>\n",
       "      <td>1</td>\n",
       "    </tr>\n",
       "    <tr>\n",
       "      <th>NA|Traffic Collision</th>\n",
       "      <td>0</td>\n",
       "      <td>1</td>\n",
       "    </tr>\n",
       "    <tr>\n",
       "      <th>Traffic Collision</th>\n",
       "      <td>428</td>\n",
       "      <td>915</td>\n",
       "    </tr>\n",
       "  </tbody>\n",
       "</table>\n",
       "</div>"
      ],
      "text/plain": [
       "subject_sex                                         female    male\n",
       "reason_for_stop                                                   \n",
       "Assistance to Motorist                                 202     728\n",
       "BOLO/APB/Warrant                                       246     961\n",
       "DUI Check                                              255     782\n",
       "DUI Check|MPC Violation                                  1       0\n",
       "MPC Violation                                          336    3206\n",
       "MPC Violation|Moving Violation                           1       1\n",
       "Mechanical or Non-Moving Violation (V.C.)            96874  234603\n",
       "Mechanical or Non-Moving Violation (V.C.)|Assis...       1       0\n",
       "Mechanical or Non-Moving Violation (V.C.)|BOLO/...       1       1\n",
       "Mechanical or Non-Moving Violation (V.C.)|DUI C...       0       2\n",
       "Mechanical or Non-Moving Violation (V.C.)|Movin...       0       4\n",
       "Moving Violation                                    167104  396001\n",
       "Moving Violation|Assistance to Motorist                  1       1\n",
       "Moving Violation|BOLO/APB/Warrant                        0       1\n",
       "Moving Violation|DUI Check                               1       1\n",
       "Moving Violation|MPC Violation                           1      13\n",
       "Moving Violation|MPC Violation|MPC Violation             0       1\n",
       "Moving Violation|Mechanical or Non-Moving Viola...      41     130\n",
       "Moving Violation|Mechanical or Non-Moving Viola...       0       3\n",
       "Moving Violation|Mechanical or Non-Moving Viola...       1       0\n",
       "Moving Violation|Mechanical or Non-Moving Viola...       0       1\n",
       "Moving Violation|NA                                      0       5\n",
       "Moving Violation|Traffic Collision                       1       1\n",
       "NA|Moving Violation                                      0       1\n",
       "NA|Traffic Collision                                     0       1\n",
       "Traffic Collision                                      428     915"
      ]
     },
     "execution_count": 22,
     "metadata": {},
     "output_type": "execute_result"
    }
   ],
   "source": [
    "pd.crosstab(df['reason_for_stop'], df['subject_sex'])"
   ]
  },
  {
   "cell_type": "markdown",
   "metadata": {},
   "source": [
    "## From this data we can see that from traffic stop data more than double the number of men have been pulled over more than the amount of times than women have been. \n",
    "\n",
    "## This would correlate with the data of the almost double rate of searches conducted. "
   ]
  },
  {
   "cell_type": "markdown",
   "metadata": {},
   "source": [
    "# We have time markers.. let's see how they relate to arrests"
   ]
  },
  {
   "cell_type": "code",
   "execution_count": 40,
   "metadata": {},
   "outputs": [
    {
     "data": {
      "text/plain": [
       "Index(['raw_row_number', 'date', 'time', 'location', 'lat', 'lng', 'district',\n",
       "       'subject_age', 'subject_race', 'subject_sex', 'type', 'arrest_made',\n",
       "       'citation_issued', 'warning_issued', 'outcome', 'contraband_found',\n",
       "       'search_conducted', 'search_vehicle', 'search_basis', 'reason_for_stop',\n",
       "       'raw_search_vehicle_description', 'raw_result_of_contact_description'],\n",
       "      dtype='object')"
      ]
     },
     "execution_count": 40,
     "metadata": {},
     "output_type": "execute_result"
    }
   ],
   "source": [
    "df.columns"
   ]
  },
  {
   "cell_type": "code",
   "execution_count": 45,
   "metadata": {},
   "outputs": [
    {
     "data": {
      "text/plain": [
       "<matplotlib.axes._subplots.AxesSubplot at 0x122b42390>"
      ]
     },
     "execution_count": 45,
     "metadata": {},
     "output_type": "execute_result"
    },
    {
     "data": {
      "image/png": "[encoded data removed]",
      "text/plain": [
       "<Figure size 432x288 with 1 Axes>"
      ]
     },
     "metadata": {
      "needs_background": "light"
     },
     "output_type": "display_data"
    }
   ],
   "source": [
    "df.groupby(df.index.hour)['arrest_made'].mean().plot(kind='bar')"
   ]
  },
  {
   "cell_type": "markdown",
   "metadata": {},
   "source": [
    "### As one might've guessed, people tend to get arrested at night because they can't see what they're doing in the dark. Particularly a spike at 2am. "
   ]
  },
  {
   "cell_type": "markdown",
   "metadata": {},
   "source": [
    "### What month do people get arrested most in? "
   ]
  },
  {
   "cell_type": "code",
   "execution_count": 60,
   "metadata": {},
   "outputs": [
    {
     "data": {
      "text/plain": [
       "<matplotlib.axes._subplots.AxesSubplot at 0x124e1d610>"
      ]
     },
     "execution_count": 60,
     "metadata": {},
     "output_type": "execute_result"
    },
    {
     "data": {
      "image/png": "[encoded data removed]",
      "text/plain": [
       "<Figure size 432x288 with 1 Axes>"
      ]
     },
     "metadata": {
      "needs_background": "light"
     },
     "output_type": "display_data"
    }
   ],
   "source": [
    "df.groupby(df.index.month)['arrest_made'].mean().plot(kind='bar')"
   ]
  },
  {
   "cell_type": "markdown",
   "metadata": {},
   "source": [
    "Not much here.. "
   ]
  },
  {
   "cell_type": "markdown",
   "metadata": {},
   "source": [
    "## Have arrest rates been going up or down over time? "
   ]
  },
  {
   "cell_type": "code",
   "execution_count": 63,
   "metadata": {},
   "outputs": [
    {
     "data": {
      "text/plain": [
       "<matplotlib.axes._subplots.AxesSubplot at 0x1253dd290>"
      ]
     },
     "execution_count": 63,
     "metadata": {},
     "output_type": "execute_result"
    },
    {
     "data": {
      "image/png": "[encoded data removed]",
      "text/plain": [
       "<Figure size 432x288 with 1 Axes>"
      ]
     },
     "metadata": {
      "needs_background": "light"
     },
     "output_type": "display_data"
    }
   ],
   "source": [
    "df.groupby(df.index.year)['arrest_made'].mean().plot()"
   ]
  },
  {
   "cell_type": "markdown",
   "metadata": {},
   "source": [
    "### Staggering drop in arrest rates over time. Bravo SFPD !!"
   ]
  },
  {
   "cell_type": "markdown",
   "metadata": {},
   "source": [
    "# On the topic of arrests, let's take a look at the rate of drug related stops over time"
   ]
  },
  {
   "cell_type": "markdown",
   "metadata": {},
   "source": [
    "## To get an idea of the over all population breakdown of SF, I brought in some facts from the government Census:\n",
    "https://www.census.gov/quickfacts/sanfranciscocountycalifornia\n",
    "\n",
    "* White alone, percent\t52.9%\n",
    "* Black or African American alone, percent(a)\t5.6%\n",
    "* American Indian and Alaska Native alone, percent(a)\t0.7%\n",
    "* Asian alone, percent(a)\t35.9%\n",
    "* Hispanic or Latino, percent(b)\t15.2%\n",
    "-------------\n",
    "* White alone, not Hispanic or Latino, percent\t40.3%\n",
    "\n",
    "* Native Hawaiian and Other Pacific Islander alone, percent(a)\t0.5%\n",
    "* Two or More Races, percent\t4.4%\n"
   ]
  },
  {
   "cell_type": "code",
   "execution_count": 171,
   "metadata": {},
   "outputs": [
    {
     "data": {
      "text/plain": [
       "<matplotlib.axes._subplots.AxesSubplot at 0x148056ed0>"
      ]
     },
     "execution_count": 171,
     "metadata": {},
     "output_type": "execute_result"
    },
    {
     "data": {
      "image/png": "[encoded data removed]",
      "text/plain": [
       "<Figure size 432x288 with 1 Axes>"
      ]
     },
     "metadata": {
      "needs_background": "light"
     },
     "output_type": "display_data"
    }
   ],
   "source": [
    "# significantly larger number of white race in SF\n",
    "# Also corresponds to traffic stop high numbers \n",
    "\n",
    "df.subject_race.value_counts().plot(kind=\"bar\")"
   ]
  },
  {
   "cell_type": "code",
   "execution_count": 172,
   "metadata": {},
   "outputs": [
    {
     "data": {
      "text/plain": [
       "<matplotlib.axes._subplots.AxesSubplot at 0x1480ab610>"
      ]
     },
     "execution_count": 172,
     "metadata": {},
     "output_type": "execute_result"
    },
    {
     "data": {
      "image/png": "[encoded data removed]",
      "text/plain": [
       "<Figure size 432x288 with 1 Axes>"
      ]
     },
     "metadata": {
      "needs_background": "light"
     },
     "output_type": "display_data"
    }
   ],
   "source": [
    "# Drug related stops over the years\n",
    "\n",
    "df.groupby(df.index.year)['contraband_found'].value_counts().plot(kind=\"bar\")"
   ]
  },
  {
   "cell_type": "code",
   "execution_count": 173,
   "metadata": {},
   "outputs": [
    {
     "data": {
      "text/plain": [
       "<matplotlib.axes._subplots.AxesSubplot at 0x148171990>"
      ]
     },
     "execution_count": 173,
     "metadata": {},
     "output_type": "execute_result"
    },
    {
     "data": {
      "image/png": "[encoded data removed]",
      "text/plain": [
       "<Figure size 432x288 with 1 Axes>"
      ]
     },
     "metadata": {
      "needs_background": "light"
     },
     "output_type": "display_data"
    }
   ],
   "source": [
    "# outcome of stops relative to race\n",
    "\n",
    "df.groupby(df.subject_race)['outcome'].value_counts().plot(kind=\"bar\")"
   ]
  },
  {
   "cell_type": "markdown",
   "metadata": {},
   "source": [
    "# Let's take a look at the frequency of violations relative to district"
   ]
  },
  {
   "cell_type": "code",
   "execution_count": 120,
   "metadata": {},
   "outputs": [
    {
     "data": {
      "text/html": [
       "<div>\n",
       "<style scoped>\n",
       "    .dataframe tbody tr th:only-of-type {\n",
       "        vertical-align: middle;\n",
       "    }\n",
       "\n",
       "    .dataframe tbody tr th {\n",
       "        vertical-align: top;\n",
       "    }\n",
       "\n",
       "    .dataframe thead th {\n",
       "        text-align: right;\n",
       "    }\n",
       "</style>\n",
       "<table border=\"1\" class=\"dataframe\">\n",
       "  <thead>\n",
       "    <tr style=\"text-align: right;\">\n",
       "      <th>reason_for_stop</th>\n",
       "      <th>Assistance to Motorist</th>\n",
       "      <th>BOLO/APB/Warrant</th>\n",
       "      <th>DUI Check</th>\n",
       "      <th>MPC Violation</th>\n",
       "      <th>MPC Violation|Moving Violation</th>\n",
       "      <th>Mechanical or Non-Moving Violation (V.C.)</th>\n",
       "      <th>Mechanical or Non-Moving Violation (V.C.)|Assistance to Motorist</th>\n",
       "      <th>Mechanical or Non-Moving Violation (V.C.)|BOLO/APB/Warrant</th>\n",
       "      <th>Mechanical or Non-Moving Violation (V.C.)|DUI Check</th>\n",
       "      <th>Mechanical or Non-Moving Violation (V.C.)|Moving Violation</th>\n",
       "      <th>...</th>\n",
       "      <th>Moving Violation|MPC Violation|MPC Violation</th>\n",
       "      <th>Moving Violation|Mechanical or Non-Moving Violation (V.C.)</th>\n",
       "      <th>Moving Violation|Mechanical or Non-Moving Violation (V.C.)|MPC Violation</th>\n",
       "      <th>Moving Violation|Mechanical or Non-Moving Violation (V.C.)|Mechanical or Non-Moving Violation (V.C.)</th>\n",
       "      <th>Moving Violation|Mechanical or Non-Moving Violation (V.C.)|Mechanical or Non-Moving Violation (V.C.)|Mechanical or Non-Moving Violation (V.C.)|Mechanical or Non-Moving Violation (V.C.)</th>\n",
       "      <th>Moving Violation|NA</th>\n",
       "      <th>Moving Violation|Traffic Collision</th>\n",
       "      <th>NA|Moving Violation</th>\n",
       "      <th>NA|Traffic Collision</th>\n",
       "      <th>Traffic Collision</th>\n",
       "    </tr>\n",
       "    <tr>\n",
       "      <th>district</th>\n",
       "      <th></th>\n",
       "      <th></th>\n",
       "      <th></th>\n",
       "      <th></th>\n",
       "      <th></th>\n",
       "      <th></th>\n",
       "      <th></th>\n",
       "      <th></th>\n",
       "      <th></th>\n",
       "      <th></th>\n",
       "      <th></th>\n",
       "      <th></th>\n",
       "      <th></th>\n",
       "      <th></th>\n",
       "      <th></th>\n",
       "      <th></th>\n",
       "      <th></th>\n",
       "      <th></th>\n",
       "      <th></th>\n",
       "      <th></th>\n",
       "      <th></th>\n",
       "    </tr>\n",
       "  </thead>\n",
       "  <tbody>\n",
       "    <tr>\n",
       "      <th>A</th>\n",
       "      <td>43</td>\n",
       "      <td>51</td>\n",
       "      <td>81</td>\n",
       "      <td>652</td>\n",
       "      <td>0</td>\n",
       "      <td>17779</td>\n",
       "      <td>0</td>\n",
       "      <td>0</td>\n",
       "      <td>0</td>\n",
       "      <td>0</td>\n",
       "      <td>...</td>\n",
       "      <td>0</td>\n",
       "      <td>16</td>\n",
       "      <td>2</td>\n",
       "      <td>0</td>\n",
       "      <td>0</td>\n",
       "      <td>2</td>\n",
       "      <td>0</td>\n",
       "      <td>0</td>\n",
       "      <td>0</td>\n",
       "      <td>98</td>\n",
       "    </tr>\n",
       "    <tr>\n",
       "      <th>B</th>\n",
       "      <td>87</td>\n",
       "      <td>119</td>\n",
       "      <td>103</td>\n",
       "      <td>630</td>\n",
       "      <td>0</td>\n",
       "      <td>29168</td>\n",
       "      <td>0</td>\n",
       "      <td>0</td>\n",
       "      <td>0</td>\n",
       "      <td>1</td>\n",
       "      <td>...</td>\n",
       "      <td>1</td>\n",
       "      <td>26</td>\n",
       "      <td>1</td>\n",
       "      <td>1</td>\n",
       "      <td>0</td>\n",
       "      <td>1</td>\n",
       "      <td>0</td>\n",
       "      <td>0</td>\n",
       "      <td>0</td>\n",
       "      <td>165</td>\n",
       "    </tr>\n",
       "    <tr>\n",
       "      <th>C</th>\n",
       "      <td>125</td>\n",
       "      <td>287</td>\n",
       "      <td>80</td>\n",
       "      <td>249</td>\n",
       "      <td>0</td>\n",
       "      <td>44486</td>\n",
       "      <td>0</td>\n",
       "      <td>0</td>\n",
       "      <td>0</td>\n",
       "      <td>0</td>\n",
       "      <td>...</td>\n",
       "      <td>0</td>\n",
       "      <td>24</td>\n",
       "      <td>0</td>\n",
       "      <td>0</td>\n",
       "      <td>0</td>\n",
       "      <td>0</td>\n",
       "      <td>0</td>\n",
       "      <td>0</td>\n",
       "      <td>0</td>\n",
       "      <td>95</td>\n",
       "    </tr>\n",
       "    <tr>\n",
       "      <th>D</th>\n",
       "      <td>99</td>\n",
       "      <td>163</td>\n",
       "      <td>152</td>\n",
       "      <td>224</td>\n",
       "      <td>0</td>\n",
       "      <td>31471</td>\n",
       "      <td>0</td>\n",
       "      <td>0</td>\n",
       "      <td>0</td>\n",
       "      <td>0</td>\n",
       "      <td>...</td>\n",
       "      <td>0</td>\n",
       "      <td>26</td>\n",
       "      <td>0</td>\n",
       "      <td>0</td>\n",
       "      <td>0</td>\n",
       "      <td>0</td>\n",
       "      <td>0</td>\n",
       "      <td>1</td>\n",
       "      <td>1</td>\n",
       "      <td>149</td>\n",
       "    </tr>\n",
       "    <tr>\n",
       "      <th>E</th>\n",
       "      <td>101</td>\n",
       "      <td>121</td>\n",
       "      <td>178</td>\n",
       "      <td>356</td>\n",
       "      <td>0</td>\n",
       "      <td>24133</td>\n",
       "      <td>0</td>\n",
       "      <td>0</td>\n",
       "      <td>0</td>\n",
       "      <td>0</td>\n",
       "      <td>...</td>\n",
       "      <td>0</td>\n",
       "      <td>19</td>\n",
       "      <td>0</td>\n",
       "      <td>0</td>\n",
       "      <td>0</td>\n",
       "      <td>0</td>\n",
       "      <td>0</td>\n",
       "      <td>0</td>\n",
       "      <td>0</td>\n",
       "      <td>154</td>\n",
       "    </tr>\n",
       "    <tr>\n",
       "      <th>F</th>\n",
       "      <td>37</td>\n",
       "      <td>25</td>\n",
       "      <td>51</td>\n",
       "      <td>52</td>\n",
       "      <td>0</td>\n",
       "      <td>25291</td>\n",
       "      <td>0</td>\n",
       "      <td>0</td>\n",
       "      <td>0</td>\n",
       "      <td>1</td>\n",
       "      <td>...</td>\n",
       "      <td>0</td>\n",
       "      <td>6</td>\n",
       "      <td>0</td>\n",
       "      <td>0</td>\n",
       "      <td>0</td>\n",
       "      <td>0</td>\n",
       "      <td>0</td>\n",
       "      <td>0</td>\n",
       "      <td>0</td>\n",
       "      <td>47</td>\n",
       "    </tr>\n",
       "    <tr>\n",
       "      <th>G</th>\n",
       "      <td>99</td>\n",
       "      <td>34</td>\n",
       "      <td>82</td>\n",
       "      <td>118</td>\n",
       "      <td>0</td>\n",
       "      <td>29526</td>\n",
       "      <td>0</td>\n",
       "      <td>0</td>\n",
       "      <td>1</td>\n",
       "      <td>1</td>\n",
       "      <td>...</td>\n",
       "      <td>0</td>\n",
       "      <td>5</td>\n",
       "      <td>0</td>\n",
       "      <td>0</td>\n",
       "      <td>0</td>\n",
       "      <td>0</td>\n",
       "      <td>0</td>\n",
       "      <td>0</td>\n",
       "      <td>0</td>\n",
       "      <td>101</td>\n",
       "    </tr>\n",
       "    <tr>\n",
       "      <th>H</th>\n",
       "      <td>119</td>\n",
       "      <td>153</td>\n",
       "      <td>123</td>\n",
       "      <td>343</td>\n",
       "      <td>0</td>\n",
       "      <td>51329</td>\n",
       "      <td>0</td>\n",
       "      <td>1</td>\n",
       "      <td>0</td>\n",
       "      <td>0</td>\n",
       "      <td>...</td>\n",
       "      <td>0</td>\n",
       "      <td>24</td>\n",
       "      <td>0</td>\n",
       "      <td>0</td>\n",
       "      <td>0</td>\n",
       "      <td>0</td>\n",
       "      <td>0</td>\n",
       "      <td>0</td>\n",
       "      <td>0</td>\n",
       "      <td>161</td>\n",
       "    </tr>\n",
       "    <tr>\n",
       "      <th>I</th>\n",
       "      <td>81</td>\n",
       "      <td>80</td>\n",
       "      <td>100</td>\n",
       "      <td>160</td>\n",
       "      <td>0</td>\n",
       "      <td>41717</td>\n",
       "      <td>1</td>\n",
       "      <td>0</td>\n",
       "      <td>1</td>\n",
       "      <td>1</td>\n",
       "      <td>...</td>\n",
       "      <td>0</td>\n",
       "      <td>15</td>\n",
       "      <td>0</td>\n",
       "      <td>0</td>\n",
       "      <td>1</td>\n",
       "      <td>1</td>\n",
       "      <td>2</td>\n",
       "      <td>0</td>\n",
       "      <td>0</td>\n",
       "      <td>209</td>\n",
       "    </tr>\n",
       "    <tr>\n",
       "      <th>J</th>\n",
       "      <td>37</td>\n",
       "      <td>88</td>\n",
       "      <td>59</td>\n",
       "      <td>377</td>\n",
       "      <td>1</td>\n",
       "      <td>17172</td>\n",
       "      <td>0</td>\n",
       "      <td>1</td>\n",
       "      <td>0</td>\n",
       "      <td>0</td>\n",
       "      <td>...</td>\n",
       "      <td>0</td>\n",
       "      <td>6</td>\n",
       "      <td>0</td>\n",
       "      <td>0</td>\n",
       "      <td>0</td>\n",
       "      <td>0</td>\n",
       "      <td>0</td>\n",
       "      <td>0</td>\n",
       "      <td>0</td>\n",
       "      <td>30</td>\n",
       "    </tr>\n",
       "    <tr>\n",
       "      <th>K</th>\n",
       "      <td>1</td>\n",
       "      <td>1</td>\n",
       "      <td>0</td>\n",
       "      <td>19</td>\n",
       "      <td>0</td>\n",
       "      <td>380</td>\n",
       "      <td>0</td>\n",
       "      <td>0</td>\n",
       "      <td>0</td>\n",
       "      <td>0</td>\n",
       "      <td>...</td>\n",
       "      <td>0</td>\n",
       "      <td>0</td>\n",
       "      <td>0</td>\n",
       "      <td>0</td>\n",
       "      <td>0</td>\n",
       "      <td>0</td>\n",
       "      <td>0</td>\n",
       "      <td>0</td>\n",
       "      <td>0</td>\n",
       "      <td>0</td>\n",
       "    </tr>\n",
       "    <tr>\n",
       "      <th>S</th>\n",
       "      <td>17</td>\n",
       "      <td>0</td>\n",
       "      <td>0</td>\n",
       "      <td>48</td>\n",
       "      <td>0</td>\n",
       "      <td>227</td>\n",
       "      <td>0</td>\n",
       "      <td>0</td>\n",
       "      <td>0</td>\n",
       "      <td>0</td>\n",
       "      <td>...</td>\n",
       "      <td>0</td>\n",
       "      <td>0</td>\n",
       "      <td>0</td>\n",
       "      <td>0</td>\n",
       "      <td>0</td>\n",
       "      <td>0</td>\n",
       "      <td>0</td>\n",
       "      <td>0</td>\n",
       "      <td>0</td>\n",
       "      <td>0</td>\n",
       "    </tr>\n",
       "    <tr>\n",
       "      <th>T</th>\n",
       "      <td>2</td>\n",
       "      <td>0</td>\n",
       "      <td>1</td>\n",
       "      <td>2</td>\n",
       "      <td>0</td>\n",
       "      <td>52</td>\n",
       "      <td>0</td>\n",
       "      <td>0</td>\n",
       "      <td>0</td>\n",
       "      <td>0</td>\n",
       "      <td>...</td>\n",
       "      <td>0</td>\n",
       "      <td>0</td>\n",
       "      <td>0</td>\n",
       "      <td>0</td>\n",
       "      <td>0</td>\n",
       "      <td>0</td>\n",
       "      <td>0</td>\n",
       "      <td>0</td>\n",
       "      <td>0</td>\n",
       "      <td>1</td>\n",
       "    </tr>\n",
       "  </tbody>\n",
       "</table>\n",
       "<p>13 rows × 25 columns</p>\n",
       "</div>"
      ],
      "text/plain": [
       "reason_for_stop  Assistance to Motorist  BOLO/APB/Warrant  DUI Check  \\\n",
       "district                                                               \n",
       "A                                    43                51         81   \n",
       "B                                    87               119        103   \n",
       "C                                   125               287         80   \n",
       "D                                    99               163        152   \n",
       "E                                   101               121        178   \n",
       "F                                    37                25         51   \n",
       "G                                    99                34         82   \n",
       "H                                   119               153        123   \n",
       "I                                    81                80        100   \n",
       "J                                    37                88         59   \n",
       "K                                     1                 1          0   \n",
       "S                                    17                 0          0   \n",
       "T                                     2                 0          1   \n",
       "\n",
       "reason_for_stop  MPC Violation  MPC Violation|Moving Violation  \\\n",
       "district                                                         \n",
       "A                          652                               0   \n",
       "B                          630                               0   \n",
       "C                          249                               0   \n",
       "D                          224                               0   \n",
       "E                          356                               0   \n",
       "F                           52                               0   \n",
       "G                          118                               0   \n",
       "H                          343                               0   \n",
       "I                          160                               0   \n",
       "J                          377                               1   \n",
       "K                           19                               0   \n",
       "S                           48                               0   \n",
       "T                            2                               0   \n",
       "\n",
       "reason_for_stop  Mechanical or Non-Moving Violation (V.C.)  \\\n",
       "district                                                     \n",
       "A                                                    17779   \n",
       "B                                                    29168   \n",
       "C                                                    44486   \n",
       "D                                                    31471   \n",
       "E                                                    24133   \n",
       "F                                                    25291   \n",
       "G                                                    29526   \n",
       "H                                                    51329   \n",
       "I                                                    41717   \n",
       "J                                                    17172   \n",
       "K                                                      380   \n",
       "S                                                      227   \n",
       "T                                                       52   \n",
       "\n",
       "reason_for_stop  Mechanical or Non-Moving Violation (V.C.)|Assistance to Motorist  \\\n",
       "district                                                                            \n",
       "A                                                                0                  \n",
       "B                                                                0                  \n",
       "C                                                                0                  \n",
       "D                                                                0                  \n",
       "E                                                                0                  \n",
       "F                                                                0                  \n",
       "G                                                                0                  \n",
       "H                                                                0                  \n",
       "I                                                                1                  \n",
       "J                                                                0                  \n",
       "K                                                                0                  \n",
       "S                                                                0                  \n",
       "T                                                                0                  \n",
       "\n",
       "reason_for_stop  Mechanical or Non-Moving Violation (V.C.)|BOLO/APB/Warrant  \\\n",
       "district                                                                      \n",
       "A                                                                0            \n",
       "B                                                                0            \n",
       "C                                                                0            \n",
       "D                                                                0            \n",
       "E                                                                0            \n",
       "F                                                                0            \n",
       "G                                                                0            \n",
       "H                                                                1            \n",
       "I                                                                0            \n",
       "J                                                                1            \n",
       "K                                                                0            \n",
       "S                                                                0            \n",
       "T                                                                0            \n",
       "\n",
       "reason_for_stop  Mechanical or Non-Moving Violation (V.C.)|DUI Check  \\\n",
       "district                                                               \n",
       "A                                                                0     \n",
       "B                                                                0     \n",
       "C                                                                0     \n",
       "D                                                                0     \n",
       "E                                                                0     \n",
       "F                                                                0     \n",
       "G                                                                1     \n",
       "H                                                                0     \n",
       "I                                                                1     \n",
       "J                                                                0     \n",
       "K                                                                0     \n",
       "S                                                                0     \n",
       "T                                                                0     \n",
       "\n",
       "reason_for_stop  Mechanical or Non-Moving Violation (V.C.)|Moving Violation  \\\n",
       "district                                                                      \n",
       "A                                                                0            \n",
       "B                                                                1            \n",
       "C                                                                0            \n",
       "D                                                                0            \n",
       "E                                                                0            \n",
       "F                                                                1            \n",
       "G                                                                1            \n",
       "H                                                                0            \n",
       "I                                                                1            \n",
       "J                                                                0            \n",
       "K                                                                0            \n",
       "S                                                                0            \n",
       "T                                                                0            \n",
       "\n",
       "reason_for_stop  ...  Moving Violation|MPC Violation|MPC Violation  \\\n",
       "district         ...                                                 \n",
       "A                ...                                             0   \n",
       "B                ...                                             1   \n",
       "C                ...                                             0   \n",
       "D                ...                                             0   \n",
       "E                ...                                             0   \n",
       "F                ...                                             0   \n",
       "G                ...                                             0   \n",
       "H                ...                                             0   \n",
       "I                ...                                             0   \n",
       "J                ...                                             0   \n",
       "K                ...                                             0   \n",
       "S                ...                                             0   \n",
       "T                ...                                             0   \n",
       "\n",
       "reason_for_stop  Moving Violation|Mechanical or Non-Moving Violation (V.C.)  \\\n",
       "district                                                                      \n",
       "A                                                               16            \n",
       "B                                                               26            \n",
       "C                                                               24            \n",
       "D                                                               26            \n",
       "E                                                               19            \n",
       "F                                                                6            \n",
       "G                                                                5            \n",
       "H                                                               24            \n",
       "I                                                               15            \n",
       "J                                                                6            \n",
       "K                                                                0            \n",
       "S                                                                0            \n",
       "T                                                                0            \n",
       "\n",
       "reason_for_stop  Moving Violation|Mechanical or Non-Moving Violation (V.C.)|MPC Violation  \\\n",
       "district                                                                                    \n",
       "A                                                                2                          \n",
       "B                                                                1                          \n",
       "C                                                                0                          \n",
       "D                                                                0                          \n",
       "E                                                                0                          \n",
       "F                                                                0                          \n",
       "G                                                                0                          \n",
       "H                                                                0                          \n",
       "I                                                                0                          \n",
       "J                                                                0                          \n",
       "K                                                                0                          \n",
       "S                                                                0                          \n",
       "T                                                                0                          \n",
       "\n",
       "reason_for_stop  Moving Violation|Mechanical or Non-Moving Violation (V.C.)|Mechanical or Non-Moving Violation (V.C.)  \\\n",
       "district                                                                                                                \n",
       "A                                                                0                                                      \n",
       "B                                                                1                                                      \n",
       "C                                                                0                                                      \n",
       "D                                                                0                                                      \n",
       "E                                                                0                                                      \n",
       "F                                                                0                                                      \n",
       "G                                                                0                                                      \n",
       "H                                                                0                                                      \n",
       "I                                                                0                                                      \n",
       "J                                                                0                                                      \n",
       "K                                                                0                                                      \n",
       "S                                                                0                                                      \n",
       "T                                                                0                                                      \n",
       "\n",
       "reason_for_stop  Moving Violation|Mechanical or Non-Moving Violation (V.C.)|Mechanical or Non-Moving Violation (V.C.)|Mechanical or Non-Moving Violation (V.C.)|Mechanical or Non-Moving Violation (V.C.)  \\\n",
       "district                                                                                                                                                                                                    \n",
       "A                                                                0                                                                                                                                          \n",
       "B                                                                0                                                                                                                                          \n",
       "C                                                                0                                                                                                                                          \n",
       "D                                                                0                                                                                                                                          \n",
       "E                                                                0                                                                                                                                          \n",
       "F                                                                0                                                                                                                                          \n",
       "G                                                                0                                                                                                                                          \n",
       "H                                                                0                                                                                                                                          \n",
       "I                                                                1                                                                                                                                          \n",
       "J                                                                0                                                                                                                                          \n",
       "K                                                                0                                                                                                                                          \n",
       "S                                                                0                                                                                                                                          \n",
       "T                                                                0                                                                                                                                          \n",
       "\n",
       "reason_for_stop  Moving Violation|NA  Moving Violation|Traffic Collision  \\\n",
       "district                                                                   \n",
       "A                                  2                                   0   \n",
       "B                                  1                                   0   \n",
       "C                                  0                                   0   \n",
       "D                                  0                                   0   \n",
       "E                                  0                                   0   \n",
       "F                                  0                                   0   \n",
       "G                                  0                                   0   \n",
       "H                                  0                                   0   \n",
       "I                                  1                                   2   \n",
       "J                                  0                                   0   \n",
       "K                                  0                                   0   \n",
       "S                                  0                                   0   \n",
       "T                                  0                                   0   \n",
       "\n",
       "reason_for_stop  NA|Moving Violation  NA|Traffic Collision  Traffic Collision  \n",
       "district                                                                       \n",
       "A                                  0                     0                 98  \n",
       "B                                  0                     0                165  \n",
       "C                                  0                     0                 95  \n",
       "D                                  1                     1                149  \n",
       "E                                  0                     0                154  \n",
       "F                                  0                     0                 47  \n",
       "G                                  0                     0                101  \n",
       "H                                  0                     0                161  \n",
       "I                                  0                     0                209  \n",
       "J                                  0                     0                 30  \n",
       "K                                  0                     0                  0  \n",
       "S                                  0                     0                  0  \n",
       "T                                  0                     0                  1  \n",
       "\n",
       "[13 rows x 25 columns]"
      ]
     },
     "execution_count": 120,
     "metadata": {},
     "output_type": "execute_result"
    }
   ],
   "source": [
    "zones = pd.crosstab(df.district, df.reason_for_stop)\n",
    "zones"
   ]
  },
  {
   "cell_type": "code",
   "execution_count": 128,
   "metadata": {},
   "outputs": [
    {
     "data": {
      "text/plain": [
       "<matplotlib.axes._subplots.AxesSubplot at 0x127b38890>"
      ]
     },
     "execution_count": 128,
     "metadata": {},
     "output_type": "execute_result"
    },
    {
     "data": {
      "image/png": "[encoded data removed]",
      "text/plain": [
       "<Figure size 432x288 with 1 Axes>"
      ]
     },
     "metadata": {
      "needs_background": "light"
     },
     "output_type": "display_data"
    }
   ],
   "source": [
    "zones.plot(kind='bar', stacked=True)"
   ]
  },
  {
   "cell_type": "code",
   "execution_count": 130,
   "metadata": {},
   "outputs": [
    {
     "data": {
      "text/plain": [
       "<matplotlib.axes._subplots.AxesSubplot at 0x127a64490>"
      ]
     },
     "execution_count": 130,
     "metadata": {},
     "output_type": "execute_result"
    },
    {
     "data": {
      "image/png": "[encoded data removed]",
      "text/plain": [
       "<Figure size 432x288 with 1 Axes>"
      ]
     },
     "metadata": {
      "needs_background": "light"
     },
     "output_type": "display_data"
    }
   ],
   "source": [
    "zones.plot(kind='bar', stacked=True, legend=True)"
   ]
  },
  {
   "cell_type": "code",
   "execution_count": 139,
   "metadata": {},
   "outputs": [
    {
     "data": {
      "text/plain": [
       "<matplotlib.axes._subplots.AxesSubplot at 0x132847510>"
      ]
     },
     "execution_count": 139,
     "metadata": {},
     "output_type": "execute_result"
    },
    {
     "data": {
      "image/png": "[encoded data removed]",
      "text/plain": [
       "<Figure size 432x288 with 1 Axes>"
      ]
     },
     "metadata": {
      "needs_background": "light"
     },
     "output_type": "display_data"
    }
   ],
   "source": [
    "# on average the white race got pulled over significantly more often\n",
    "df.subject_race.value_counts().plot(kind='bar')"
   ]
  },
  {
   "cell_type": "code",
   "execution_count": 148,
   "metadata": {},
   "outputs": [
    {
     "data": {
      "text/plain": [
       "<matplotlib.axes._subplots.AxesSubplot at 0x14bd2ac10>"
      ]
     },
     "execution_count": 148,
     "metadata": {},
     "output_type": "execute_result"
    },
    {
     "data": {
      "image/png": "[encoded data removed]",
      "text/plain": [
       "<Figure size 432x288 with 1 Axes>"
      ]
     },
     "metadata": {
      "needs_background": "light"
     },
     "output_type": "display_data"
    }
   ],
   "source": [
    "df.groupby(df.subject_race)['contraband_found'].value_counts().plot(kind='bar')"
   ]
  },
  {
   "cell_type": "code",
   "execution_count": 149,
   "metadata": {},
   "outputs": [
    {
     "data": {
      "text/plain": [
       "2669.05"
      ]
     },
     "execution_count": 149,
     "metadata": {},
     "output_type": "execute_result"
    }
   ],
   "source": [
    "df.groupby(df.index.year)['contraband_found'].value_counts()"
   ]
  },
  {
   "cell_type": "code",
   "execution_count": 144,
   "metadata": {},
   "outputs": [
    {
     "data": {
      "text/plain": [
       "<matplotlib.axes._subplots.AxesSubplot at 0x13fb8d590>"
      ]
     },
     "execution_count": 144,
     "metadata": {},
     "output_type": "execute_result"
    },
    {
     "data": {
      "image/png": "[encoded data removed]",
      "text/plain": [
       "<Figure size 432x288 with 1 Axes>"
      ]
     },
     "metadata": {
      "needs_background": "light"
     },
     "output_type": "display_data"
    }
   ],
   "source": [
    "# rate of search conducted per race\n",
    "df.groupby(df.subject_race)['search_conducted'].mean().plot(kind='bar')"
   ]
  },
  {
   "cell_type": "code",
   "execution_count": 143,
   "metadata": {},
   "outputs": [
    {
     "data": {
      "text/plain": [
       "<matplotlib.axes._subplots.AxesSubplot at 0x134ce9790>"
      ]
     },
     "execution_count": 143,
     "metadata": {},
     "output_type": "execute_result"
    },
    {
     "data": {
      "image/png": "[encoded data removed]",
      "text/plain": [
       "<Figure size 432x288 with 1 Axes>"
      ]
     },
     "metadata": {
      "needs_background": "light"
     },
     "output_type": "display_data"
    }
   ],
   "source": [
    "# arrest rate per race\n",
    "df.groupby(df.subject_race)['arrest_made'].mean().plot(kind='bar')"
   ]
  },
  {
   "cell_type": "code",
   "execution_count": null,
   "metadata": {},
   "outputs": [],
   "source": []
  }
 ],
 "metadata": {
  "kernelspec": {
   "display_name": "Python 3",
   "language": "python",
   "name": "python3"
  },
  "language_info": {
   "codemirror_mode": {
    "name": "ipython",
    "version": 3
   },
   "file_extension": ".py",
   "mimetype": "text/x-python",
   "name": "python",
   "nbconvert_exporter": "python",
   "pygments_lexer": "ipython3",
   "version": "3.7.6"
  }
 },
 "nbformat": 4,
 "nbformat_minor": 2
}
